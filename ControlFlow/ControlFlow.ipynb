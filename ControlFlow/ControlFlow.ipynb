{
 "cells": [
  {
   "cell_type": "markdown",
   "id": "3fc319b9-fdf8-40a7-9bce-34a3a4ee47a5",
   "metadata": {},
   "source": [
    "### if, elif and else conditionals"
   ]
  },
  {
   "cell_type": "code",
   "execution_count": 1,
   "id": "d8e44c15-31f8-4a1d-aac8-fd70935f2b65",
   "metadata": {},
   "outputs": [
    {
     "name": "stdout",
     "output_type": "stream",
     "text": [
      "You are eligible to vote.\n"
     ]
    }
   ],
   "source": [
    "# 1. Conditionals (if, elif, else)\n",
    "#example 1\n",
    "age = 18\n",
    "\n",
    "if age >= 18:\n",
    "    print(\"You are eligible to vote.\")\n",
    "else:\n",
    "    print(\"You are not eligible to vote.\")"
   ]
  },
  {
   "cell_type": "code",
   "execution_count": 31,
   "id": "7a6a005b-ad6f-41a0-94be-739aaaba93eb",
   "metadata": {},
   "outputs": [
    {
     "name": "stdout",
     "output_type": "stream",
     "text": [
      "First Class\n"
     ]
    }
   ],
   "source": [
    "#Example 2:\n",
    "marks = 70\n",
    "\n",
    "if marks < 35:\n",
    "    print(\"Fail\")\n",
    "elif marks == 35:\n",
    "    print(\"Just Passed\")\n",
    "elif marks < 60:\n",
    "    print(\"Second Class\")\n",
    "elif marks < 100:\n",
    "    print(\"First Class\")\n",
    "else:\n",
    "    print(\"Perfect Score!\")"
   ]
  },
  {
   "cell_type": "markdown",
   "id": "aa65c1c1-0611-4146-8614-f404002d8a8d",
   "metadata": {},
   "source": [
    "### *Nested conditional Statements*"
   ]
  },
  {
   "cell_type": "raw",
   "id": "9d1a10be-1dc3-4133-996c-e94e5aa20c37",
   "metadata": {},
   "source": [
    "You can place one or more if, elif, or else statements inside another if, elif, or else statement to create nested conditional statements."
   ]
  },
  {
   "cell_type": "code",
   "execution_count": 7,
   "id": "433f78bf-fa75-4098-86f9-64b6063c29c5",
   "metadata": {},
   "outputs": [
    {
     "name": "stdin",
     "output_type": "stream",
     "text": [
      "Enter the year 2005\n"
     ]
    },
    {
     "name": "stdout",
     "output_type": "stream",
     "text": [
      "2005 ia not a leap year\n"
     ]
    }
   ],
   "source": [
    "year=int(input(\"Enter the year\"))\n",
    "\n",
    "if year%4==0:\n",
    "    if year%100==0:\n",
    "        if year%400==0:\n",
    "            print(year,\"is a leap year\")\n",
    "        else:\n",
    "            print(year,\"is not a leap year\")\n",
    "    else:\n",
    "        print(year,\"is a leap year\")\n",
    "else:\n",
    "    print(year, \"ia not a leap year\")"
   ]
  },
  {
   "cell_type": "markdown",
   "id": "0e258f5c-29a6-4997-ab91-5887e654b558",
   "metadata": {},
   "source": [
    "### *Loops*"
   ]
  },
  {
   "cell_type": "code",
   "execution_count": 1,
   "id": "cf3bb256-7fbf-4bfc-9208-a7e60d85f321",
   "metadata": {},
   "outputs": [
    {
     "name": "stdout",
     "output_type": "stream",
     "text": [
      "I like apple\n",
      "I like banana\n",
      "I like cherry\n"
     ]
    }
   ],
   "source": [
    "#2. Loops (for, while)\n",
    "Examlpe:1\n",
    "fruits = [\"apple\", \"banana\", \"cherry\"]\n",
    "\n",
    "for fruit in fruits:\n",
    "    print(\"I like\", fruit)"
   ]
  },
  {
   "cell_type": "code",
   "execution_count": 27,
   "id": "1767f6d6-f89b-4a1b-bc9e-d24eaca05939",
   "metadata": {},
   "outputs": [
    {
     "name": "stdout",
     "output_type": "stream",
     "text": [
      "even numbers:\n",
      "2\n",
      "4\n",
      "6\n",
      "8\n",
      "10\n"
     ]
    }
   ],
   "source": [
    "#Example 2\n",
    "print(\"even numbers:\")\n",
    "for num in range(2, 12, 2):  #starting at 1 and ending at 11 and jump 2\n",
    "    print(num)"
   ]
  },
  {
   "cell_type": "code",
   "execution_count": 18,
   "id": "e9b823f4-80e0-4a58-840a-f4628a4d423b",
   "metadata": {},
   "outputs": [
    {
     "name": "stdout",
     "output_type": "stream",
     "text": [
      "Count is 2\n",
      "Count is 3\n"
     ]
    }
   ],
   "source": [
    "#while Loop\n",
    "#Example:1\n",
    "count = 1\n",
    "\n",
    "while count <= 3:\n",
    "    print(\"Count is\", count)\n",
    "    count += 1"
   ]
  },
  {
   "cell_type": "code",
   "execution_count": 28,
   "id": "b8b1c53d-9d89-4475-b228-b785f03da161",
   "metadata": {},
   "outputs": [
    {
     "name": "stdout",
     "output_type": "stream",
     "text": [
      "10\n",
      "20\n",
      "30\n"
     ]
    }
   ],
   "source": [
    "#Iterable Example \n",
    "#Note:- When you use a for loop, Python automatically gets an iterator from the iterable and loops through it using next()\n",
    "numbers = [10, 20, 30]\n",
    "\n",
    "iterator = iter(numbers)\n",
    "\n",
    "print(next(iterator)) \n",
    "print(next(iterator)) \n",
    "print(next(iterator)) "
   ]
  },
  {
   "cell_type": "markdown",
   "id": "bfdd6b6b-af9f-4d0b-b1a3-7a83f50451b3",
   "metadata": {},
   "source": [
    "### *Loop Control Statements*"
   ]
  },
  {
   "cell_type": "raw",
   "id": "bbe29df0-f166-43a8-821c-cc3aad107b9f",
   "metadata": {},
   "source": [
    "Break:- \n",
    "The break statement exits the loop permaturely"
   ]
  },
  {
   "cell_type": "code",
   "execution_count": 15,
   "id": "8e54733c-2dd5-4db0-b9b4-76b75dadde3d",
   "metadata": {},
   "outputs": [
    {
     "name": "stdout",
     "output_type": "stream",
     "text": [
      "0\n",
      "1\n",
      "2\n",
      "3\n",
      "4\n"
     ]
    }
   ],
   "source": [
    "for i in range(10):\n",
    "    if i == 5:\n",
    "        break\n",
    "    print(i)"
   ]
  },
  {
   "cell_type": "raw",
   "id": "c2925ca3-c563-4443-aae7-b072cfbc5742",
   "metadata": {},
   "source": [
    "continue:-\n",
    "The continue statement skips the current iteration and continues with the next."
   ]
  },
  {
   "cell_type": "code",
   "execution_count": 21,
   "id": "6a17a263-f10f-45d9-a7f6-c6c0a7a3f2c6",
   "metadata": {},
   "outputs": [
    {
     "name": "stdout",
     "output_type": "stream",
     "text": [
      "1\n",
      "3\n",
      "5\n",
      "7\n",
      "9\n"
     ]
    }
   ],
   "source": [
    "for i in range(10):\n",
    "    if i%2 == 0:\n",
    "        continue\n",
    "    print(i)"
   ]
  },
  {
   "cell_type": "markdown",
   "id": "7226be89-8ae8-4b9a-bfe7-93bde10c25af",
   "metadata": {},
   "source": [
    "Pass:- \n",
    "The pass statement is a null operation; it does nothing."
   ]
  },
  {
   "cell_type": "code",
   "execution_count": 26,
   "id": "1aeb136d-6868-4e8c-b034-b335cf38a784",
   "metadata": {},
   "outputs": [
    {
     "name": "stdout",
     "output_type": "stream",
     "text": [
      "0\n",
      "1\n",
      "2\n",
      "pass is number 3\n",
      "3\n",
      "4\n",
      "5\n",
      "6\n",
      "7\n",
      "8\n",
      "9\n"
     ]
    }
   ],
   "source": [
    "for i in range(10):\n",
    "    if i==3:\n",
    "        print(\"pass is number\", i)\n",
    "        pass\n",
    "    print(i)"
   ]
  },
  {
   "cell_type": "code",
   "execution_count": 30,
   "id": "eb347fc4-72a6-408e-863f-b77639afa69a",
   "metadata": {},
   "outputs": [
    {
     "name": "stdout",
     "output_type": "stream",
     "text": [
      "i:0 and j:0\n",
      "i:0 and j:1\n",
      "i:1 and j:0\n",
      "i:1 and j:1\n",
      "i:2 and j:0\n",
      "i:2 and j:1\n"
     ]
    }
   ],
   "source": [
    "# Nested loops\n",
    "\n",
    "for i in range(3):\n",
    "    for j in range(2):\n",
    "        print(f\"i:{i} and j:{j}\")"
   ]
  },
  {
   "cell_type": "markdown",
   "id": "4aaf89e0-d673-4d87-a36c-5053c4fd6d43",
   "metadata": {},
   "source": [
    "### *Example: Calculate the sum of first N natural numbers using a while and for loop*\n"
   ]
  },
  {
   "cell_type": "code",
   "execution_count": 39,
   "id": "d6f92968-babb-4dac-8ca7-c3e4e38a8b6d",
   "metadata": {},
   "outputs": [
    {
     "name": "stdout",
     "output_type": "stream",
     "text": [
      "first 10 natural number 55\n"
     ]
    }
   ],
   "source": [
    "n=10   \n",
    "sum=0\n",
    "count=1\n",
    "while count<=n:\n",
    "    sum = sum + count\n",
    "    count=count+1\n",
    "print(\"first 10 natural number\", sum)\n",
    "    "
   ]
  },
  {
   "cell_type": "code",
   "execution_count": 43,
   "id": "609a4b1f-7ff4-476a-87d5-f7398927ceee",
   "metadata": {},
   "outputs": [
    {
     "name": "stdout",
     "output_type": "stream",
     "text": [
      "55\n"
     ]
    }
   ],
   "source": [
    "n= 10\n",
    "sum =0\n",
    "count =1\n",
    "for i in range(11):\n",
    "    sum = sum+i\n",
    "print(sum)\n",
    "    "
   ]
  },
  {
   "cell_type": "markdown",
   "id": "dba8835f-9908-4af1-bfaa-afc23e466a94",
   "metadata": {},
   "source": [
    "### *prime number between 1 and 20*"
   ]
  },
  {
   "cell_type": "code",
   "execution_count": 101,
   "id": "3fe0691e-19e0-4b93-a490-7ab04faf7dc2",
   "metadata": {},
   "outputs": [
    {
     "name": "stdout",
     "output_type": "stream",
     "text": [
      "2\n",
      "3\n",
      "5\n",
      "7\n",
      "11\n",
      "13\n",
      "17\n",
      "19\n"
     ]
    }
   ],
   "source": [
    "for num in range (1,20):\n",
    "    if num>1:\n",
    "        for i in range(2,num):\n",
    "            if num%i==0:\n",
    "                break\n",
    "        else:\n",
    "          print(num)\n",
    "        "
   ]
  },
  {
   "cell_type": "code",
   "execution_count": null,
   "id": "b7b4ffa2-4bcc-473e-91ff-12ac851801d2",
   "metadata": {},
   "outputs": [],
   "source": []
  }
 ],
 "metadata": {
  "kernelspec": {
   "display_name": "Python [conda env:base] *",
   "language": "python",
   "name": "conda-base-py"
  },
  "language_info": {
   "codemirror_mode": {
    "name": "ipython",
    "version": 3
   },
   "file_extension": ".py",
   "mimetype": "text/x-python",
   "name": "python",
   "nbconvert_exporter": "python",
   "pygments_lexer": "ipython3",
   "version": "3.12.7"
  }
 },
 "nbformat": 4,
 "nbformat_minor": 5
}
