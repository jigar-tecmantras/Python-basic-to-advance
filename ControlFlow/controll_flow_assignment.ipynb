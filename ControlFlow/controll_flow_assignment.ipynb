{
 "cells": [
  {
   "cell_type": "markdown",
   "id": "06e39ef9-4157-4ef6-aa7a-f8811e40f755",
   "metadata": {},
   "source": [
    "# Module 2: Control Flow Assignments\n",
    "## Lesson 2.1: Conditional Statements\n",
    "### Assignment 1: Simple if Statement"
   ]
  },
  {
   "cell_type": "markdown",
   "id": "bc6355a3-5d88-4d81-a67a-20c33f55b38f",
   "metadata": {},
   "source": [
    "**Question 1:** Write a program that asks the user to input a number and prints whether the number is positive."
   ]
  },
  {
   "cell_type": "code",
   "execution_count": 14,
   "id": "c1c717fc-9977-4aec-94a0-dfe982f65cc3",
   "metadata": {},
   "outputs": [
    {
     "name": "stdout",
     "output_type": "stream",
     "text": [
      "please enter number 5\n"
     ]
    },
    {
     "name": "stdout",
     "output_type": "stream",
     "text": [
      "5.0 is a positive number\n"
     ]
    }
   ],
   "source": [
    "num = float(input(\"please enter number\"))\n",
    "if num>0:\n",
    "    print(f\"{num} is a positive number\")\n"
   ]
  },
  {
   "cell_type": "markdown",
   "id": "24537d4d-41c5-40c5-83ad-162bc7d37cbf",
   "metadata": {},
   "source": [
    "### Assignment 2: if-else Statement\n",
    "\n",
    "**Question 2:** Write a program that asks the user to input a number and prints whether the number is positive or negative."
   ]
  },
  {
   "cell_type": "code",
   "execution_count": 26,
   "id": "98315f3e-38d5-4c3a-b8ba-ba12c0d25499",
   "metadata": {},
   "outputs": [
    {
     "name": "stdout",
     "output_type": "stream",
     "text": [
      "Enter the number: -5\n"
     ]
    },
    {
     "name": "stdout",
     "output_type": "stream",
     "text": [
      "-5.0 is a negative number\n"
     ]
    }
   ],
   "source": [
    "num = float(input(\"Enter the number:\"))\n",
    "if (num>0):\n",
    "    print(f\"{num} is a positive number\")\n",
    "elif(num<0):\n",
    "    print(f\"{num} is a negative number\")"
   ]
  },
  {
   "cell_type": "markdown",
   "id": "e0cde0c1-94ad-413e-a4f6-37c7f1dc5c1a",
   "metadata": {},
   "source": [
    "### Assignment 3: if-elif-else Statement\n",
    "\n",
    "**Question 3:** Write a program that asks the user to input a number and prints whether the number is positive, negative, or zero."
   ]
  },
  {
   "cell_type": "code",
   "execution_count": 36,
   "id": "58e6f791-0f5d-4614-baee-0c54c8a5e92b",
   "metadata": {},
   "outputs": [
    {
     "name": "stdout",
     "output_type": "stream",
     "text": [
      "Enter the number: -3\n"
     ]
    },
    {
     "name": "stdout",
     "output_type": "stream",
     "text": [
      "-3.0 is a negative number\n"
     ]
    }
   ],
   "source": [
    "num = float(input(\"Enter the number:\"))\n",
    "if (num>0):\n",
    "    print(f\"{num} is a positive number\")\n",
    "elif(num<0):\n",
    "    print(f\"{num} is a negative number\")\n",
    "else:\n",
    "    print(f\"{num} is a zero\")"
   ]
  },
  {
   "cell_type": "markdown",
   "id": "7026d4a8-a761-4a15-a74c-f5c8ee60c17f",
   "metadata": {},
   "source": [
    "### Assignment 4: Nested if Statement\n",
    "\n",
    "**Question 4** Write a program that asks the user to input a number and prints whether the number is positive and even, positive and odd, or negative."
   ]
  },
  {
   "cell_type": "code",
   "execution_count": 61,
   "id": "bf3e3009-ce22-4dd6-86d0-720035f03aa3",
   "metadata": {},
   "outputs": [
    {
     "name": "stdout",
     "output_type": "stream",
     "text": [
      "Enter the number: 4\n"
     ]
    },
    {
     "name": "stdout",
     "output_type": "stream",
     "text": [
      "4.0 is a positive\n",
      "4.0 is a even\n"
     ]
    }
   ],
   "source": [
    "num = float(input(\"Enter the number:\"))\n",
    "if (num>0):\n",
    "    print(f\"{num} is a positive\")\n",
    "    if(num %2 == 0):\n",
    "        print(f\"{num} is a even\")\n",
    "elif(num<0):\n",
    "    print(f\"{num} is a  nagative\")"
   ]
  },
  {
   "cell_type": "markdown",
   "id": "0e1a1915-1417-427b-a415-39e7c41e3fbf",
   "metadata": {},
   "source": [
    "## Lesson 2.2: Loops\n",
    "### Assignment 5: for Loop\n",
    "\n",
    "**Question 5** Write a program that prints all the numbers from 1 to 10 using a for loop."
   ]
  },
  {
   "cell_type": "code",
   "execution_count": 68,
   "id": "4b80e625-305d-4454-8c84-ef5b805e7cf2",
   "metadata": {},
   "outputs": [
    {
     "name": "stdout",
     "output_type": "stream",
     "text": [
      "1\n",
      "2\n",
      "3\n",
      "4\n",
      "5\n",
      "6\n",
      "7\n",
      "8\n",
      "9\n",
      "10\n"
     ]
    }
   ],
   "source": [
    "for i in range(1,11):\n",
    "    print(i)"
   ]
  },
  {
   "cell_type": "markdown",
   "id": "ceb476df-2c2a-48d2-baed-9af5041bb92a",
   "metadata": {},
   "source": [
    "### Assignment 6: while Loop\n",
    "\n",
    "**Question 6:** Write a program that prints all the numbers from 1 to 10 using a while loop."
   ]
  },
  {
   "cell_type": "code",
   "execution_count": 91,
   "id": "277f1408-7d33-4754-9fba-d8d06f684888",
   "metadata": {},
   "outputs": [
    {
     "name": "stdout",
     "output_type": "stream",
     "text": [
      "1\n",
      "2\n",
      "3\n",
      "4\n",
      "5\n",
      "6\n",
      "7\n",
      "8\n",
      "9\n",
      "10\n"
     ]
    }
   ],
   "source": [
    "num = 1\n",
    "\n",
    "while num <= 10:\n",
    "    print(num)\n",
    "    num += 1\n"
   ]
  },
  {
   "cell_type": "markdown",
   "id": "3a85b2ad-bd33-4a9a-8a5f-52ec3c4c91a0",
   "metadata": {},
   "source": [
    "### Assignment 7: Nested Loops\n",
    "\n",
    "**Question 7:** Write a program that prints a 5x5 grid of asterisks (*) using nested loops."
   ]
  },
  {
   "cell_type": "code",
   "execution_count": 110,
   "id": "403771af-1720-4a01-baf4-9fdb42fb59bd",
   "metadata": {},
   "outputs": [
    {
     "name": "stdout",
     "output_type": "stream",
     "text": [
      "* * * * * \n",
      "* * * * * \n",
      "* * * * * \n",
      "* * * * * \n",
      "* * * * * \n"
     ]
    }
   ],
   "source": [
    "for i in range(5):\n",
    "    for j in range(5):\n",
    "        print(\"*\", end=(\" \"))\n",
    "    print()\n",
    "    "
   ]
  },
  {
   "cell_type": "markdown",
   "id": "de5377e9-7510-40aa-a6de-a006af7b7f46",
   "metadata": {},
   "source": [
    "### Assignment 8: break Statement\n",
    "\n",
    "**Question 8:** Write a program that asks the user to input numbers until they input 0. The program should print the sum of all the input numbers."
   ]
  },
  {
   "cell_type": "code",
   "execution_count": 135,
   "id": "ec4497e2-af5c-45b5-a4e1-5d06aa57510d",
   "metadata": {},
   "outputs": [
    {
     "name": "stdout",
     "output_type": "stream",
     "text": [
      "0\n"
     ]
    }
   ],
   "source": [
    "total = 0\n",
    "while True:\n",
    "    num = int(input(\"Enter a number enter 0 for close\", ))\n",
    "    if num == 0:\n",
    "        break\n",
    "    total+= num\n",
    "print(total)"
   ]
  },
  {
   "cell_type": "markdown",
   "id": "221c20cf-a808-4538-ad79-b5de406ef20d",
   "metadata": {},
   "source": [
    "### Assignment 9: continue Statement\n",
    "\n",
    "**Question 8:** Write a program that prints all the numbers from 1 to 10 except 5 using a for loop and continue statement."
   ]
  },
  {
   "cell_type": "code",
   "execution_count": 1,
   "id": "58888906-4d5c-42be-8424-5d79285024dd",
   "metadata": {},
   "outputs": [
    {
     "name": "stdout",
     "output_type": "stream",
     "text": [
      "1\n",
      "2\n",
      "3\n",
      "4\n",
      "6\n",
      "7\n",
      "8\n",
      "9\n",
      "10\n"
     ]
    }
   ],
   "source": [
    "for num in range(1, 11):\n",
    "    if num == 5:\n",
    "        continue \n",
    "    print(num)"
   ]
  },
  {
   "cell_type": "markdown",
   "id": "4c3f0f5c",
   "metadata": {},
   "source": [
    "### Assignment 10: pass Statement\n",
    "\n",
    "**Question 10:** Write a program that defines an empty function using the pass statement."
   ]
  },
  {
   "cell_type": "code",
   "execution_count": null,
   "id": "01acd319",
   "metadata": {},
   "outputs": [],
   "source": [
    "def test():\n",
    "    pass\n",
    "\n",
    "test()"
   ]
  },
  {
   "cell_type": "markdown",
   "id": "1d104880",
   "metadata": {},
   "source": [
    "### Assignment 11: Combining Loops and Conditionals\n",
    "\n",
    "**Question 11:** Write a program that asks the user to input a number and prints all the even numbers from 1 to that number using a for loop."
   ]
  },
  {
   "cell_type": "code",
   "execution_count": 9,
   "id": "5cdf3e8e",
   "metadata": {},
   "outputs": [
    {
     "name": "stdout",
     "output_type": "stream",
     "text": [
      "2\n",
      "4\n",
      "6\n",
      "8\n",
      "10\n"
     ]
    }
   ],
   "source": [
    "num = int(input(\"Enter the number:\"))\n",
    "for i in range (1, num+1):\n",
    "    if i % 2 == 0:\n",
    "        print(i)\n"
   ]
  },
  {
   "cell_type": "markdown",
   "id": "41112818",
   "metadata": {},
   "source": [
    "### Assignment 12: Factorial Calculation\n",
    "\n",
    "**Question 12:** Write a program that calculates the factorial of a number input by the user using a while loop."
   ]
  },
  {
   "cell_type": "code",
   "execution_count": 14,
   "id": "d9324d6e",
   "metadata": {},
   "outputs": [
    {
     "name": "stdout",
     "output_type": "stream",
     "text": [
      "factorail number is  120\n"
     ]
    }
   ],
   "source": [
    "num = int(input(\"Enter a number:\"))\n",
    "factorial = 1\n",
    "i = 1\n",
    "while i <= num:\n",
    "    factorial *= i\n",
    "    i += 1\n",
    "print(\"factorail number is \",   factorial)"
   ]
  },
  {
   "cell_type": "markdown",
   "id": "b4c41966",
   "metadata": {},
   "source": [
    "### Assignment 13: Sum of Digits\n",
    "\n",
    "**Question13** Write a program that calculates the sum of the digits of a number input by the user using a while loop."
   ]
  },
  {
   "cell_type": "code",
   "execution_count": 9,
   "id": "b1c9ff21",
   "metadata": {},
   "outputs": [
    {
     "name": "stdin",
     "output_type": "stream",
     "text": [
      "Enter a number:  12\n"
     ]
    },
    {
     "name": "stdout",
     "output_type": "stream",
     "text": [
      "3\n"
     ]
    }
   ],
   "source": [
    "num = int(input(\"Enter a number: \"))\n",
    "sum_di = 0\n",
    "\n",
    "while num > 0:\n",
    "    digit = num % 10       \n",
    "    sum_di += digit   \n",
    "    num = num // 10  \n",
    "\n",
    "print(sum_di)"
   ]
  },
  {
   "cell_type": "markdown",
   "id": "deca9795-0771-4582-a026-1d01b182b006",
   "metadata": {},
   "source": [
    "### Assignment 14: Prime Number Check\n",
    "\n",
    "Question 14 Write a program that checks if a number input by the user is a prime number using a for loop."
   ]
  },
  {
   "cell_type": "code",
   "execution_count": 11,
   "id": "ec6ea8c1-5810-40c2-a3c4-7f171d47f7ed",
   "metadata": {},
   "outputs": [
    {
     "name": "stdin",
     "output_type": "stream",
     "text": [
      "Enter a number:  2\n"
     ]
    },
    {
     "name": "stdout",
     "output_type": "stream",
     "text": [
      "2 is a prime number\n"
     ]
    }
   ],
   "source": [
    "num = int(input(\"Enter a number: \"))\n",
    "\n",
    "if num > 1:\n",
    "    for i in range(2, num):\n",
    "        if num % i == 0:\n",
    "            print(num, \"is not a prime number\")\n",
    "            break\n",
    "    else:\n",
    "        print(num, \"is a prime number\")\n",
    "else:\n",
    "    print(num, \"is not a prime number\")"
   ]
  },
  {
   "cell_type": "markdown",
   "id": "7f2c1866-1a4a-4608-9fda-ba6f24ec1291",
   "metadata": {},
   "source": [
    "### Assignment 15: Fibonacci Sequence\n",
    "\n",
    "Write a program that prints the first n Fibonacci numbers, where n is input by the user."
   ]
  },
  {
   "cell_type": "code",
   "execution_count": 35,
   "id": "84f7a1f4-7927-4788-8d94-4ccacf0cf6c1",
   "metadata": {},
   "outputs": [
    {
     "name": "stdin",
     "output_type": "stream",
     "text": [
      "Enter a number:  8\n"
     ]
    },
    {
     "name": "stdout",
     "output_type": "stream",
     "text": [
      "0\n",
      "1\n",
      "1\n",
      "2\n",
      "3\n",
      "5\n",
      "8\n",
      "13\n"
     ]
    }
   ],
   "source": [
    "num = int(input(\"Enter a number: \"))\n",
    "a, b = 0, 1\n",
    "count = 0\n",
    "\n",
    "while count < num:\n",
    "    print(a)\n",
    "    a, b = b, a + b\n",
    "    count += 1"
   ]
  },
  {
   "cell_type": "code",
   "execution_count": null,
   "id": "5f7290be-ce51-48e1-90da-a3ff3c2db2bc",
   "metadata": {},
   "outputs": [],
   "source": []
  }
 ],
 "metadata": {
  "kernelspec": {
   "display_name": "Python [conda env:base] *",
   "language": "python",
   "name": "conda-base-py"
  },
  "language_info": {
   "codemirror_mode": {
    "name": "ipython",
    "version": 3
   },
   "file_extension": ".py",
   "mimetype": "text/x-python",
   "name": "python",
   "nbconvert_exporter": "python",
   "pygments_lexer": "ipython3",
   "version": "3.12.7"
  }
 },
 "nbformat": 4,
 "nbformat_minor": 5
}
