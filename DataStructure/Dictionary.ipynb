{
 "cells": [
  {
   "cell_type": "markdown",
   "id": "89af6395-0d85-4292-aae7-c31bf370b1da",
   "metadata": {},
   "source": [
    "### *Dictionary*"
   ]
  },
  {
   "cell_type": "raw",
   "id": "b59a7b3c-156c-4699-871a-73cf73304520",
   "metadata": {},
   "source": [
    "A dictionary in Python is an unordered collection of key-value pairs.\n",
    "Dictionary is mutable"
   ]
  },
  {
   "cell_type": "code",
   "execution_count": 3,
   "id": "e22b9355-3ac0-4234-a15c-472a859c9e5f",
   "metadata": {},
   "outputs": [
    {
     "name": "stdout",
     "output_type": "stream",
     "text": [
      "{'name': 'Alice', 'age': 25, 'city': 'New York'}\n"
     ]
    }
   ],
   "source": [
    "my_dict = {\n",
    "    \"name\": \"Alice\",\n",
    "    \"age\": 25,\n",
    "    \"city\": \"New York\"\n",
    "}\n",
    "print(my_dict)"
   ]
  },
  {
   "cell_type": "code",
   "execution_count": 7,
   "id": "93bac43b-5f39-42f7-bc4b-4568ac09d12a",
   "metadata": {
    "scrolled": true
   },
   "outputs": [
    {
     "name": "stdout",
     "output_type": "stream",
     "text": [
      "name is jigar\n",
      "email is jigar@gmail.com\n",
      "name is mahesh\n",
      "email is mahesh@gmail.com\n"
     ]
    }
   ],
   "source": [
    "contact = [ \n",
    "    {\"name\" : \"jigar\", \"email\": \"jigar@gmail.com\"},\n",
    "    { \"name\": \"mahesh\", \"email\":\"mahesh@gmail.com\"}\n",
    "]\n",
    "\n",
    "# contact[\"name\"] = \"divya\" \n",
    "# print(contact[0][\"name\"]);\n",
    "for con in contact:\n",
    "    print(\"name is\", con[\"name\"])\n",
    "    print(\"email is\", con[\"email\"])\n",
    "    "
   ]
  },
  {
   "cell_type": "markdown",
   "id": "90ed7190-39e0-45e4-b3ac-5b55fad5a519",
   "metadata": {},
   "source": [
    "### *Dictionary with List Values*"
   ]
  },
  {
   "cell_type": "code",
   "execution_count": 11,
   "id": "02d3983d-8e3d-4962-9302-5c72b525c7fb",
   "metadata": {},
   "outputs": [
    {
     "name": "stdout",
     "output_type": "stream",
     "text": [
      "{'friends': ['jigar', 'mahesh'], 'emails': ['jigar@gmail.com', 'mahesh@gmail.com']}\n",
      "['jigar', 'mahesh']\n"
     ]
    }
   ],
   "source": [
    "contacts = {\n",
    "    \"friends\": [\"jigar\", \"mahesh\"],\n",
    "    \"emails\": [\"jigar@gmail.com\", \"mahesh@gmail.com\"]\n",
    "}\n",
    "\n",
    "print(contacts)\n",
    "#access value\n",
    "print(contacts[\"friends\"])"
   ]
  },
  {
   "cell_type": "markdown",
   "id": "9d74a00c-1aeb-4de4-a01d-85286aae0b98",
   "metadata": {},
   "source": [
    "### *List of Keys with Tuple Values*"
   ]
  },
  {
   "cell_type": "code",
   "execution_count": 12,
   "id": "706e8ff8-f181-4c76-9697-ea700a1cd0eb",
   "metadata": {},
   "outputs": [
    {
     "name": "stdout",
     "output_type": "stream",
     "text": [
      "{'jigar': ('jigar@gmail.com', 'ahmedabad'), 'mahesh': ('mahesh@gmail.com', 'banaskatha')}\n"
     ]
    }
   ],
   "source": [
    "contacts = {\n",
    "    \"jigar\": (\"jigar@gmail.com\", \"ahmedabad\"),\n",
    "    \"mahesh\": (\"mahesh@gmail.com\", \"banaskatha\")\n",
    "}\n",
    "print(contacts)"
   ]
  },
  {
   "cell_type": "code",
   "execution_count": 3,
   "id": "7425dd82-574d-4a0a-b0b7-8cf1bf5f8234",
   "metadata": {},
   "outputs": [
    {
     "name": "stdout",
     "output_type": "stream",
     "text": [
      "{0: 10, 1: 30}\n"
     ]
    }
   ],
   "source": [
    "d = {0: 10, 1: 20}\n",
    "\n",
    "# Update the dictionary 'd' by adding a new key-value pair {2: 30}.\n",
    "d.update({1: 30})\n",
    "\n",
    "# Print the dictionary 'd' after the update, which now includes the new key-value pair.\n",
    "print(d)"
   ]
  },
  {
   "cell_type": "markdown",
   "id": "5dc01885-ee62-49fa-9748-5459de03938e",
   "metadata": {},
   "source": [
    "### *program 1:Generate Dictionary of Numbers and Their Squares*"
   ]
  },
  {
   "cell_type": "code",
   "execution_count": 10,
   "id": "3971a104-4436-4db4-830c-3d6961754234",
   "metadata": {},
   "outputs": [
    {
     "name": "stdin",
     "output_type": "stream",
     "text": [
      "choose number: 5\n"
     ]
    },
    {
     "name": "stdout",
     "output_type": "stream",
     "text": [
      "{1: 1, 2: 4, 3: 9, 4: 16, 5: 25}\n"
     ]
    }
   ],
   "source": [
    "num = int(input(\"choose number:\",))\n",
    "\n",
    "di = dict()\n",
    "\n",
    "for x in range(1, n + 1):\n",
    "    di[x] = x*x\n",
    "print(di)\n"
   ]
  },
  {
   "cell_type": "markdown",
   "id": "071cb535-d338-47be-9dde-351f5bf11f46",
   "metadata": {},
   "source": [
    "### *Map Two Lists into a Dictionary*"
   ]
  },
  {
   "cell_type": "code",
   "execution_count": 33,
   "id": "2f013c77-1867-425b-b4f6-5e13ed6f3ce9",
   "metadata": {},
   "outputs": [
    {
     "name": "stdout",
     "output_type": "stream",
     "text": [
      "{'red': '#FF0000', 'green': '#008000', 'blue': '#0000FF'}\n"
     ]
    }
   ],
   "source": [
    "keys = ['red', 'green', 'blue']\n",
    "values = ['#FF0000', '#008000', '#0000FF']\n",
    "\n",
    "color_dictionary = dict(zip(keys, values))\n",
    "\n",
    "print(color_dictionary)"
   ]
  },
  {
   "cell_type": "markdown",
   "id": "d340a718-1be9-419f-9883-7543236371bc",
   "metadata": {},
   "source": [
    "### *program 2 : merge two Python dictionaries.* "
   ]
  },
  {
   "cell_type": "code",
   "execution_count": 18,
   "id": "5a91d718-581c-48a1-9c8c-c428e77d0939",
   "metadata": {},
   "outputs": [
    {
     "name": "stdout",
     "output_type": "stream",
     "text": [
      "{'a': 100, 'b': 200, 'x': 300, 'y': 200}\n"
     ]
    }
   ],
   "source": [
    "di1 = {'a': 100, 'b': 200}\n",
    "\n",
    "di2 = {'x': 300, 'y': 200}\n",
    "\n",
    "di1.update(di2)\n",
    "print(di1)"
   ]
  },
  {
   "cell_type": "markdown",
   "id": "d805c640-fdf5-445b-ac33-e004ac2b0024",
   "metadata": {},
   "source": [
    "### *sum all the items in a dictionary.*"
   ]
  },
  {
   "cell_type": "code",
   "execution_count": 23,
   "id": "f30e6cab-74f0-4ccf-b21b-94446202f56b",
   "metadata": {},
   "outputs": [
    {
     "name": "stdout",
     "output_type": "stream",
     "text": [
      "60\n"
     ]
    }
   ],
   "source": [
    "my_dict = {'data1': 100, 'data2': -50, 'data3': 10}\n",
    "result = sum(my_dict.values())\n",
    "print(result) "
   ]
  },
  {
   "cell_type": "markdown",
   "id": "d76f672b-3024-4964-bfc7-69dffb56fce6",
   "metadata": {},
   "source": [
    "### *Add , update, remove  from dictionary*"
   ]
  },
  {
   "cell_type": "code",
   "execution_count": 27,
   "id": "3e8814d7-b8ed-4a68-8174-2cd8400c97e0",
   "metadata": {},
   "outputs": [
    {
     "name": "stdout",
     "output_type": "stream",
     "text": [
      "\n",
      "1 for add, 2 for remove, 3 for list, 4 for update, 5 for exit\n"
     ]
    },
    {
     "name": "stdin",
     "output_type": "stream",
     "text": [
      "Enter your choice (1-5):  1\n",
      "Name:  hiewd\n",
      "Email:  iewgfiweffi\n"
     ]
    },
    {
     "name": "stdout",
     "output_type": "stream",
     "text": [
      "User added successfully! {'6': {'id': '6', 'name': 'hiewd', 'email': 'iewgfiweffi'}}\n",
      "\n",
      "1 for add, 2 for remove, 3 for list, 4 for update, 5 for exit\n"
     ]
    },
    {
     "name": "stdin",
     "output_type": "stream",
     "text": [
      "Enter your choice (1-5):  2\n",
      "Enter id to remove:  6\n"
     ]
    },
    {
     "name": "stdout",
     "output_type": "stream",
     "text": [
      "User '6' removed.\n",
      "Current users: {}\n",
      "\n",
      "1 for add, 2 for remove, 3 for list, 4 for update, 5 for exit\n"
     ]
    },
    {
     "name": "stdin",
     "output_type": "stream",
     "text": [
      "Enter your choice (1-5):  3\n"
     ]
    },
    {
     "name": "stdout",
     "output_type": "stream",
     "text": [
      "No users found.\n",
      "\n",
      "1 for add, 2 for remove, 3 for list, 4 for update, 5 for exit\n"
     ]
    },
    {
     "name": "stdin",
     "output_type": "stream",
     "text": [
      "Enter your choice (1-5):  1\n",
      "Name:  fhiwuhf\n",
      "Email:  iwiffwfewf\n"
     ]
    },
    {
     "name": "stdout",
     "output_type": "stream",
     "text": [
      "User added successfully! {'3': {'id': '3', 'name': 'fhiwuhf', 'email': 'iwiffwfewf'}}\n",
      "\n",
      "1 for add, 2 for remove, 3 for list, 4 for update, 5 for exit\n"
     ]
    },
    {
     "name": "stdin",
     "output_type": "stream",
     "text": [
      "Enter your choice (1-5):  1\n",
      "Name:  jigar\n",
      "Email:  jigar@gmail.com\n"
     ]
    },
    {
     "name": "stdout",
     "output_type": "stream",
     "text": [
      "User added successfully! {'3': {'id': '3', 'name': 'fhiwuhf', 'email': 'iwiffwfewf'}, '4': {'id': '4', 'name': 'jigar', 'email': 'jigar@gmail.com'}}\n",
      "\n",
      "1 for add, 2 for remove, 3 for list, 4 for update, 5 for exit\n"
     ]
    },
    {
     "name": "stdin",
     "output_type": "stream",
     "text": [
      "Enter your choice (1-5):  2\n",
      "Enter id to remove:  3\n"
     ]
    },
    {
     "name": "stdout",
     "output_type": "stream",
     "text": [
      "User '3' removed.\n",
      "Current users: {'4': {'id': '4', 'name': 'jigar', 'email': 'jigar@gmail.com'}}\n",
      "\n",
      "1 for add, 2 for remove, 3 for list, 4 for update, 5 for exit\n"
     ]
    },
    {
     "name": "stdin",
     "output_type": "stream",
     "text": [
      "Enter your choice (1-5):  5\n"
     ]
    },
    {
     "name": "stdout",
     "output_type": "stream",
     "text": [
      "Exiting program. Goodbye!\n"
     ]
    },
    {
     "name": "stdout",
     "output_type": "stream",
     "text": [
      "Enter your choice (1-4):  1\n"
     ]
    },
    {
     "name": "stdout",
     "output_type": "stream",
     "text": [
      "helloo 1\n"
     ]
    },
    {
     "name": "stdout",
     "output_type": "stream",
     "text": [
      "Name:  iojfer\n",
      "Email: fiuef\n"
     ]
    },
    {
     "name": "stdout",
     "output_type": "stream",
     "text": [
      "User added successfully! dict_items([(4, {'name': 'iojfer', 'email': 'fiuef'})])\n",
      "1 for add, 2 for remove, 3 for list, 4 for exit\n"
     ]
    },
    {
     "name": "stdout",
     "output_type": "stream",
     "text": [
      "Enter your choice (1-4):  1\n"
     ]
    },
    {
     "name": "stdout",
     "output_type": "stream",
     "text": [
      "helloo 1\n"
     ]
    },
    {
     "name": "stdout",
     "output_type": "stream",
     "text": [
      "Name:  fireuhf\n",
      "Email: fieruhf\n"
     ]
    },
    {
     "name": "stdout",
     "output_type": "stream",
     "text": [
      "User added successfully! dict_items([(4, {'name': 'iojfer', 'email': 'fiuef'}), (1, {'name': 'fireuhf', 'email': 'fieruhf'})])\n",
      "1 for add, 2 for remove, 3 for list, 4 for exit\n"
     ]
    },
    {
     "name": "stdout",
     "output_type": "stream",
     "text": [
      "Enter your choice (1-4):  2\n",
      "Enter id to remove:  1\n"
     ]
    },
    {
     "name": "stdout",
     "output_type": "stream",
     "text": [
      "{4: {'name': 'iojfer', 'email': 'fiuef'}, 1: {'name': 'fireuhf', 'email': 'fieruhf'}}\n",
      "User not found.\n",
      "1 for add, 2 for remove, 3 for list, 4 for exit\n"
     ]
    }
   ],
   "source": [
    "import random\n",
    "\n",
    "users = {}\n",
    "\n",
    "while True:\n",
    "    print(\"\\n1 for add, 2 for remove, 3 for list, 4 for update, 5 for exit\")\n",
    "    choice = input(\"Enter your choice (1-5): \")\n",
    "\n",
    "    if choice == \"1\":\n",
    "        user_id = str(random.randint(1, 10))  # store ID as a string to match input()\n",
    "        name = input(\"Name: \")\n",
    "        email = input(\"Email: \")\n",
    "\n",
    "        users[user_id] = {\n",
    "            \"id\": user_id,\n",
    "            \"name\": name,\n",
    "            \"email\": email,\n",
    "        }\n",
    "        print(\"User added successfully!\", users)\n",
    "\n",
    "    elif choice == \"2\":\n",
    "        user_id = input(\"Enter id to remove: \")\n",
    "        if user_id in users:\n",
    "            # removed_user = users.pop(user_id)\n",
    "            del users[user_id]\n",
    "            print(f\"User '{user_id}' removed.\")\n",
    "        else:\n",
    "            print(\"User not found.\")\n",
    "        print(\"Current users:\", users)\n",
    "\n",
    "    elif choice == \"3\":\n",
    "        if users:\n",
    "            print(\"User list:\")\n",
    "            for uid, info in users.items():\n",
    "                print(f\"ID: {uid}, Name: {info['name']}, Email: {info['email']}\")\n",
    "        else:\n",
    "            print(\"No users found.\")\n",
    "    elif choice == \"4\":\n",
    "        user_id = input(\"Enter id to update: \")\n",
    "        if user_id in users:\n",
    "            print(f\"Current Data -> Name: {users[user_id]['name']}, Email: {users[user_id]['email']}\")\n",
    "            name = input(\"Enter new name: \")\n",
    "            email = input(\"Enter new email: \")\n",
    "            update_data = {}\n",
    "\n",
    "            if name:\n",
    "                users[user_id]['name'] = name\n",
    "            if email:\n",
    "                users[user_id]['email'] = email\n",
    "\n",
    "            print(f\"User '{user_id}' updated successfully.\")\n",
    "        else:\n",
    "            print(\"User not found.\")\n",
    "    elif choice == \"5\":\n",
    "        print(\"Exiting program. Goodbye!\")\n",
    "        break\n",
    "      \n",
    "\n",
    "    else:\n",
    "        print(\"Invalid choice. Please enter a number between 1 and 4.\")"
   ]
  },
  {
   "cell_type": "code",
   "execution_count": null,
   "id": "01eae22d-2ff1-4051-85b9-83d4029f0fd7",
   "metadata": {},
   "outputs": [],
   "source": []
  }
 ],
 "metadata": {
  "kernelspec": {
   "display_name": "Python 3 (ipykernel)",
   "language": "python",
   "name": "python3"
  },
  "language_info": {
   "codemirror_mode": {
    "name": "ipython",
    "version": 3
   },
   "file_extension": ".py",
   "mimetype": "text/x-python",
   "name": "python",
   "nbconvert_exporter": "python",
   "pygments_lexer": "ipython3",
   "version": "3.12.9"
  }
 },
 "nbformat": 4,
 "nbformat_minor": 5
}
