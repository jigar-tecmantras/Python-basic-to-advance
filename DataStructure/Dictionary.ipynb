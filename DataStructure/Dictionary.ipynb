{
 "cells": [
  {
   "cell_type": "markdown",
   "id": "89af6395-0d85-4292-aae7-c31bf370b1da",
   "metadata": {},
   "source": [
    "### *Dictionary*"
   ]
  },
  {
   "cell_type": "raw",
   "id": "b59a7b3c-156c-4699-871a-73cf73304520",
   "metadata": {},
   "source": [
    "A dictionary in Python is an unordered collection of key-value pairs.\n",
    "Dictionary is mutable"
   ]
  },
  {
   "cell_type": "code",
   "execution_count": 3,
   "id": "e22b9355-3ac0-4234-a15c-472a859c9e5f",
   "metadata": {},
   "outputs": [
    {
     "name": "stdout",
     "output_type": "stream",
     "text": [
      "{'name': 'Alice', 'age': 25, 'city': 'New York'}\n"
     ]
    }
   ],
   "source": [
    "my_dict = {\n",
    "    \"name\": \"Alice\",\n",
    "    \"age\": 25,\n",
    "    \"city\": \"New York\"\n",
    "}\n",
    "print(my_dict)"
   ]
  },
  {
   "cell_type": "markdown",
   "id": "d76f672b-3024-4964-bfc7-69dffb56fce6",
   "metadata": {},
   "source": [
    "### *Add , update, remove  from dictionary*"
   ]
  },
  {
   "cell_type": "code",
   "execution_count": null,
   "id": "3e8814d7-b8ed-4a68-8174-2cd8400c97e0",
   "metadata": {},
   "outputs": [
    {
     "name": "stdout",
     "output_type": "stream",
     "text": [
      "1 for add, 2 for remove, 3 for list, 4 for exit\n"
     ]
    },
    {
     "name": "stdin",
     "output_type": "stream",
     "text": [
      "Enter your choice (1-4):  1\n",
      "Name:  iduewhd\n",
      "Email: oierfjr\n"
     ]
    },
    {
     "name": "stdout",
     "output_type": "stream",
     "text": [
      "User added successfully! dict_items([(2, {'name': 'iduewhd', 'email': 'oierfjr'})])\n",
      "1 for add, 2 for remove, 3 for list, 4 for exit\n"
     ]
    },
    {
     "name": "stdin",
     "output_type": "stream",
     "text": [
      "Enter your choice (1-4):  2\n",
      "Enter id to remove:  2\n"
     ]
    },
    {
     "name": "stdout",
     "output_type": "stream",
     "text": [
      "2\n",
      "{2: {'name': 'iduewhd', 'email': 'oierfjr'}}\n",
      "User not found.\n",
      "1 for add, 2 for remove, 3 for list, 4 for exit\n"
     ]
    },
    {
     "name": "stdout",
     "output_type": "stream",
     "text": [
      "Enter your choice (1-4):  1\n"
     ]
    },
    {
     "name": "stdout",
     "output_type": "stream",
     "text": [
      "helloo 1\n"
     ]
    },
    {
     "name": "stdout",
     "output_type": "stream",
     "text": [
      "Name:  iojfer\n",
      "Email: fiuef\n"
     ]
    },
    {
     "name": "stdout",
     "output_type": "stream",
     "text": [
      "User added successfully! dict_items([(4, {'name': 'iojfer', 'email': 'fiuef'})])\n",
      "1 for add, 2 for remove, 3 for list, 4 for exit\n"
     ]
    },
    {
     "name": "stdout",
     "output_type": "stream",
     "text": [
      "Enter your choice (1-4):  1\n"
     ]
    },
    {
     "name": "stdout",
     "output_type": "stream",
     "text": [
      "helloo 1\n"
     ]
    },
    {
     "name": "stdout",
     "output_type": "stream",
     "text": [
      "Name:  fireuhf\n",
      "Email: fieruhf\n"
     ]
    },
    {
     "name": "stdout",
     "output_type": "stream",
     "text": [
      "User added successfully! dict_items([(4, {'name': 'iojfer', 'email': 'fiuef'}), (1, {'name': 'fireuhf', 'email': 'fieruhf'})])\n",
      "1 for add, 2 for remove, 3 for list, 4 for exit\n"
     ]
    },
    {
     "name": "stdout",
     "output_type": "stream",
     "text": [
      "Enter your choice (1-4):  2\n",
      "Enter id to remove:  1\n"
     ]
    },
    {
     "name": "stdout",
     "output_type": "stream",
     "text": [
      "{4: {'name': 'iojfer', 'email': 'fiuef'}, 1: {'name': 'fireuhf', 'email': 'fieruhf'}}\n",
      "User not found.\n",
      "1 for add, 2 for remove, 3 for list, 4 for exit\n"
     ]
    }
   ],
   "source": [
    "import random\n",
    "users = {}\n",
    "while True:\n",
    "    print(\"1 for add, 2 for remove, 3 for list, 4 for exit\")\n",
    "    choice = input(\"Enter your choice (1-4): \")\n",
    "    if choice == \"1\":\n",
    "        id = random.randint(1, 10)\n",
    "        name = input(\"Name: \")\n",
    "        email = input(\"Email:\")\n",
    "\n",
    "        users[id] = {\n",
    "            \"name\": name,\n",
    "            \"email\": email,\n",
    "        }\n",
    "        print(\"User added successfully!\", users.items())\n",
    "    elif choice == \"2\":\n",
    "        userId = input(\"Enter id to remove: \")\n",
    "        print(userId)\n",
    "        print(users)\n",
    "        if userId in users:\n",
    "            removed_user = users.pop(userId)\n",
    "            print(f\" User '{userId}' removed.\")\n",
    "            print(\"user list\", users.items())\n",
    "        else:\n",
    "            print(\"User not found.\")\n",
    "    \n",
    "    elif choice == \"4\":\n",
    "        print(\" Exiting program. Goodbye!\")\n",
    "        break\n",
    "    else:\n",
    "        print(\"Invalid choice. Please enter a number between 1 and 4.\")"
   ]
  },
  {
   "cell_type": "code",
   "execution_count": null,
   "id": "01eae22d-2ff1-4051-85b9-83d4029f0fd7",
   "metadata": {},
   "outputs": [],
   "source": []
  }
 ],
 "metadata": {
  "kernelspec": {
   "display_name": "Python 3 (ipykernel)",
   "language": "python",
   "name": "python3"
  },
  "language_info": {
   "codemirror_mode": {
    "name": "ipython",
    "version": 3
   },
   "file_extension": ".py",
   "mimetype": "text/x-python",
   "name": "python",
   "nbconvert_exporter": "python",
   "pygments_lexer": "ipython3",
   "version": "3.12.9"
  }
 },
 "nbformat": 4,
 "nbformat_minor": 5
}
