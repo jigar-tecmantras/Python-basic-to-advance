{
 "cells": [
  {
   "cell_type": "markdown",
   "id": "f9261bee-3815-4bc1-bb88-2b9556113889",
   "metadata": {},
   "source": [
    "### *Set*"
   ]
  },
  {
   "cell_type": "raw",
   "id": "6e63f4ce-0ab7-490d-aa30-56b09a2df46d",
   "metadata": {},
   "source": [
    "A set is a collection of unique items."
   ]
  },
  {
   "cell_type": "code",
   "execution_count": 2,
   "id": "b8646c61-95af-4482-9559-02871c499c2c",
   "metadata": {
    "vscode": {
     "languageId": "python"
    }
   },
   "outputs": [
    {
     "name": "stdout",
     "output_type": "stream",
     "text": [
      "{1, 2, 3, 4}\n"
     ]
    }
   ],
   "source": [
    "#Example of set\n",
    "numbers = {1, 2, 2, 3, 4, 4}\n",
    "print(numbers)"
   ]
  },
  {
   "cell_type": "markdown",
   "id": "6b4dafb8-c526-4b5a-9e39-38108c7c88d7",
   "metadata": {},
   "source": [
    "### *Add*"
   ]
  },
  {
   "cell_type": "code",
   "execution_count": 5,
   "id": "e6d1eceb-087c-4625-923a-ed35efe97869",
   "metadata": {
    "vscode": {
     "languageId": "python"
    }
   },
   "outputs": [
    {
     "name": "stdout",
     "output_type": "stream",
     "text": [
      "{'jigar', 'abhi', 'mahesh'}\n"
     ]
    }
   ],
   "source": [
    "str = {\"mahesh\", \"jigar\", \"abhi\"}\n",
    "\n",
    "str.add(\"jigar\")\n",
    "print(str)"
   ]
  },
  {
   "cell_type": "markdown",
   "id": "a453ca39-e889-469a-86b3-ac2e8999f355",
   "metadata": {},
   "source": [
    "### *remove*"
   ]
  },
  {
   "cell_type": "code",
   "execution_count": 6,
   "id": "6214c844-b714-42a5-8114-5bf3feeb8cfd",
   "metadata": {
    "vscode": {
     "languageId": "python"
    }
   },
   "outputs": [
    {
     "name": "stdout",
     "output_type": "stream",
     "text": [
      "{'abhi', 'mahesh'}\n"
     ]
    }
   ],
   "source": [
    "str = {\"mahesh\", \"jigar\", \"abhi\"}\n",
    "\n",
    "str.remove(\"jigar\")\n",
    "print(str)"
   ]
  },
  {
   "cell_type": "markdown",
   "id": "2799402e-20f8-45ec-af78-b34e7e5b4351",
   "metadata": {},
   "source": [
    "### *clear*"
   ]
  },
  {
   "cell_type": "code",
   "execution_count": 2,
   "id": "11e937b5-558a-4d70-bfac-fcffb7bea9ae",
   "metadata": {
    "vscode": {
     "languageId": "python"
    }
   },
   "outputs": [
    {
     "name": "stdout",
     "output_type": "stream",
     "text": [
      "set()\n"
     ]
    }
   ],
   "source": [
    "fruits = {\"apple\", \"banana\", \"cherry\"}\n",
    "\n",
    "fruits.clear()\n",
    "\n",
    "print(fruits)"
   ]
  },
  {
   "cell_type": "markdown",
   "id": "0cec0028-3790-473d-a635-bc677f1e1860",
   "metadata": {},
   "source": [
    "### *Find missing items*"
   ]
  },
  {
   "cell_type": "code",
   "execution_count": 7,
   "id": "e7fd97fd-9b5a-417d-8492-d4c24319de47",
   "metadata": {
    "vscode": {
     "languageId": "python"
    }
   },
   "outputs": [
    {
     "name": "stdout",
     "output_type": "stream",
     "text": [
      "Missing Items: {'monitor', 'keyboard'}\n"
     ]
    }
   ],
   "source": [
    "expected_items = {\"laptop\", \"mouse\", \"keyboard\", \"monitor\"}\n",
    "actual_items = {\"laptop\", \"mouse\"}\n",
    "\n",
    "missing_items = expected_items - actual_items\n",
    "print(\"Missing Items:\", missing_items)"
   ]
  },
  {
   "cell_type": "code",
   "execution_count": null,
   "id": "37a30545-9277-4007-8647-96de03424eb9",
   "metadata": {
    "vscode": {
     "languageId": "python"
    }
   },
   "outputs": [],
   "source": [
    "### *Copy*"
   ]
  },
  {
   "cell_type": "code",
   "execution_count": 8,
   "id": "97e2687e-4883-4a69-997b-2cd208d32f54",
   "metadata": {
    "vscode": {
     "languageId": "python"
    }
   },
   "outputs": [
    {
     "name": "stdout",
     "output_type": "stream",
     "text": [
      "{'Lily', 'Zara', 'John'}\n"
     ]
    }
   ],
   "source": [
    "current_friends = {\"John\", \"Zara\", \"Lily\"}\n",
    "backup = current_friends.copy()\n",
    "print(backup)"
   ]
  },
  {
   "cell_type": "markdown",
   "id": "1c85c335-7207-48f1-a678-f5b52b1a8bd4",
   "metadata": {},
   "source": [
    "### *difference*"
   ]
  },
  {
   "cell_type": "code",
   "execution_count": 3,
   "id": "c1a82860-085b-46de-8c5b-95f25db3ced8",
   "metadata": {
    "vscode": {
     "languageId": "python"
    }
   },
   "outputs": [
    {
     "name": "stdout",
     "output_type": "stream",
     "text": [
      "Result: {1, 2, 3, 4}\n"
     ]
    }
   ],
   "source": [
    "a = {1, 2, 3, 4}\n",
    "b = {3, 4, 5}\n",
    "\n",
    "a.difference(b)\n",
    "print(\"Result:\", a) "
   ]
  },
  {
   "cell_type": "code",
   "execution_count": 15,
   "id": "0443e2db-0e73-4ae2-9d1e-7511f7b00232",
   "metadata": {
    "vscode": {
     "languageId": "python"
    }
   },
   "outputs": [
    {
     "name": "stdout",
     "output_type": "stream",
     "text": [
      "Result: {1, 2}\n"
     ]
    }
   ],
   "source": [
    "a = {1, 2, 3, 4}\n",
    "b = {3, 4, 5}\n",
    "\n",
    "a.difference_update(b)\n",
    "print(\"Result:\", a) "
   ]
  },
  {
   "cell_type": "markdown",
   "id": "dca9cdb3-25c8-45d5-87c4-b42472fd6ea3",
   "metadata": {},
   "source": [
    "### *discard* Remove but does not get error"
   ]
  },
  {
   "cell_type": "code",
   "execution_count": 5,
   "id": "0c22e02f-2125-4dae-85a7-d8ef7218d1a3",
   "metadata": {
    "vscode": {
     "languageId": "python"
    }
   },
   "outputs": [
    {
     "name": "stdout",
     "output_type": "stream",
     "text": [
      "{'billgates', 'nasa'}\n"
     ]
    }
   ],
   "source": [
    "following = {\"elonmusk\", \"billgates\", \"nasa\"}\n",
    "following.discard(\"elonmusk\")\n",
    "print(following)"
   ]
  },
  {
   "cell_type": "markdown",
   "id": "fee9c096-f727-4dda-8df9-89146b765878",
   "metadata": {},
   "source": [
    "### *intersection*"
   ]
  },
  {
   "cell_type": "code",
   "execution_count": 25,
   "id": "55b29b43-4846-4c90-b9af-5b71a26198c3",
   "metadata": {
    "vscode": {
     "languageId": "python"
    }
   },
   "outputs": [
    {
     "name": "stdout",
     "output_type": "stream",
     "text": [
      "Common Skills: {'Git', 'Python'}\n"
     ]
    }
   ],
   "source": [
    "candidate_1_skills = {\"Python\", \"Php\", \"SQL\", \"Git\"}\n",
    "candidate_2_skills = {\"JavaScript\", \"Python\", \"Git\", \"React\"}\n",
    "\n",
    "common_skills = candidate_2_skills.intersection(candidate_1_skills)\n",
    "\n",
    "print(\"Common Skills:\", common_skills)"
   ]
  },
  {
   "cell_type": "code",
   "execution_count": 27,
   "id": "316cd1af-4549-49ff-9754-cdb9025aa791",
   "metadata": {
    "vscode": {
     "languageId": "python"
    }
   },
   "outputs": [
    {
     "name": "stdout",
     "output_type": "stream",
     "text": [
      "Common Skills: {'Git', 'Python'}\n"
     ]
    }
   ],
   "source": [
    "candidate_1_skills = {\"Python\", \"Php\", \"SQL\", \"Git\"}\n",
    "candidate_2_skills = {\"JavaScript\", \"Python\", \"Git\", \"React\"}\n",
    "\n",
    "candidate_2_skills.intersection_update(candidate_1_skills)\n",
    "\n",
    "print(\"Common Skills:\", candidate_2_skills)"
   ]
  },
  {
   "cell_type": "markdown",
   "id": "09d89f9d-9b42-445f-8819-456a983377bd",
   "metadata": {},
   "source": [
    "### *isdisjoint*"
   ]
  },
  {
   "cell_type": "code",
   "execution_count": 34,
   "id": "c1cc92cb-5ecd-4ac2-ad2c-ff618c64c1e2",
   "metadata": {
    "vscode": {
     "languageId": "python"
    }
   },
   "outputs": [
    {
     "name": "stdout",
     "output_type": "stream",
     "text": [
      "false\n"
     ]
    }
   ],
   "source": [
    "candidate_1_skills = {\"Python\", \"Php\", \"SQL\", \"Git\"}\n",
    "candidate_2_skills = {\"JavaScript\", \"Python\", \"Git\", \"React\"}\n",
    "\n",
    "\n",
    "if candidate_1_skills.isdisjoint(candidate_2_skills):\n",
    "    print(\"true\")\n",
    "else:\n",
    "    print(\"false\")"
   ]
  },
  {
   "cell_type": "markdown",
   "id": "bb4dc12f-d309-4f11-ab18-7c2fef6e1442",
   "metadata": {},
   "source": [
    "### *issubset*"
   ]
  },
  {
   "cell_type": "code",
   "execution_count": 36,
   "id": "60eb0038-9e27-4580-a37d-2e635050b5b5",
   "metadata": {
    "vscode": {
     "languageId": "python"
    }
   },
   "outputs": [
    {
     "name": "stdout",
     "output_type": "stream",
     "text": [
      "true\n"
     ]
    }
   ],
   "source": [
    "candidate_1_skills = {\"Python\", \"JavaScript\", \"React\", \"Git\"}\n",
    "candidate_2_skills = {\"JavaScript\", \"Python\", \"Git\", \"React\"}\n",
    "\n",
    "\n",
    "if candidate_1_skills.issubset(candidate_2_skills):\n",
    "    print(\"true\")\n",
    "else:\n",
    "    print(\"false\")"
   ]
  },
  {
   "cell_type": "markdown",
   "id": "d5aca729-df2c-4433-9e28-146b30232b51",
   "metadata": {},
   "source": [
    "### *issuperset*"
   ]
  },
  {
   "cell_type": "code",
   "execution_count": 9,
   "id": "dcf4c6d5-116d-410d-9f36-96f76a23590e",
   "metadata": {
    "vscode": {
     "languageId": "python"
    }
   },
   "outputs": [
    {
     "name": "stdout",
     "output_type": "stream",
     "text": [
      "Candidate is missing required skills.\n"
     ]
    }
   ],
   "source": [
    "candidate_skills = {\"Python\", \"Django\", \"SQL\", \"Git\", \"Docker\"}\n",
    "required_skills = {\"Python\", \"SQL\"}\n",
    "\n",
    "if candidate_skills.issuperset(required_skills):\n",
    "    print(\"Candidate qualifies for the job.\")\n",
    "else:\n",
    "    print(\"Candidate is missing required skills.\")"
   ]
  },
  {
   "cell_type": "code",
   "execution_count": 2,
   "id": "5e59612c-15d0-423b-b486-6370098523fd",
   "metadata": {
    "vscode": {
     "languageId": "python"
    }
   },
   "outputs": [
    {
     "name": "stdout",
     "output_type": "stream",
     "text": [
      "Surprise Presentation Call Order:\n",
      "\n",
      "David has been called!\n",
      "Charlie has been called!\n",
      "Bob has been called!\n",
      "Eva has been called!\n",
      "Alice has been called!\n",
      "\n",
      "All students have been called.\n"
     ]
    }
   ],
   "source": [
    "students = {\"Alice\", \"Bob\", \"Charlie\", \"David\", \"Eva\"}\n",
    "\n",
    "print(\"Surprise Presentation Call Order:\\n\")\n",
    "\n",
    "while students:\n",
    "    called_student = students.pop()\n",
    "    print(f\"{called_student} has been called!\")\n",
    "\n",
    "print(\"\\nAll students have been called.\")"
   ]
  },
  {
   "cell_type": "code",
   "execution_count": 6,
   "id": "41761cdb-d48c-4b62-b352-37e429b0c0fc",
   "metadata": {
    "vscode": {
     "languageId": "python"
    }
   },
   "outputs": [
    {
     "name": "stdout",
     "output_type": "stream",
     "text": [
      "{'charger', 'toothbrush'}\n",
      "{'charger', 'sunglasses', 'toothbrush'}\n"
     ]
    }
   ],
   "source": [
    "mahesh_list = {\"toothbrush\", \"towel\", \"charger\", \"shoes\"}\n",
    "riya_list = {\"towel\", \"shoes\", \"sunglasses\"}\n",
    "print(mahesh_list - riya_list)\n",
    "print(mahesh_list.symmetric_difference(riya_list))"
   ]
  },
  {
   "cell_type": "code",
   "execution_count": 7,
   "id": "c7745d03-48a9-47be-b94f-1812e50a2081",
   "metadata": {
    "vscode": {
     "languageId": "python"
    }
   },
   "outputs": [
    {
     "name": "stdout",
     "output_type": "stream",
     "text": [
      "Updated my bag: {'sunglasses', 'hat', 'charger', 'shoes'}\n"
     ]
    }
   ],
   "source": [
    "my_bag = {\"shoes\", \"towel\", \"sunglasses\"}\n",
    "friend_bag = {\"towel\", \"charger\", \"hat\"}\n",
    "my_bag.symmetric_difference_update(friend_bag)\n",
    "print(\"Updated my bag:\", my_bag)"
   ]
  },
  {
   "cell_type": "code",
   "execution_count": 10,
   "id": "73e10a4a-dc86-4f05-ba32-94e2ea872ea7",
   "metadata": {
    "vscode": {
     "languageId": "python"
    }
   },
   "outputs": [
    {
     "name": "stdout",
     "output_type": "stream",
     "text": [
      "Combined items: {'hat', 'charger', 'sunglasses', 'towel', 'shoes'}\n"
     ]
    }
   ],
   "source": [
    "mahesh_items = {\"charger\", \"shoes\", \"towel\"}\n",
    "riya_items = {\"towel\", \"hat\", \"sunglasses\"}\n",
    "all_items = mahesh_items.union(riya_items)\n",
    "print(\"Combined items:\", all_items)"
   ]
  },
  {
   "cell_type": "code",
   "execution_count": null,
   "id": "887677f7-d506-4b52-a14d-349d48cc86fe",
   "metadata": {
    "vscode": {
     "languageId": "python"
    }
   },
   "outputs": [],
   "source": []
  }
 ],
 "metadata": {
  "kernelspec": {
   "display_name": "Python [conda env:base] *",
   "language": "python",
   "name": "conda-base-py"
  }
 },
 "nbformat": 4,
 "nbformat_minor": 5
}
