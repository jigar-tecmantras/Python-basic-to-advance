{
 "cells": [
  {
   "cell_type": "markdown",
   "id": "6730740d-9db9-4295-b4a2-884064ba76aa",
   "metadata": {},
   "source": [
    "### *Creating List*"
   ]
  },
  {
   "cell_type": "markdown",
   "id": "e51a2a08-9936-4443-922b-0171e3256273",
   "metadata": {},
   "source": [
    "Defination:- List is a mutable. The list can be changed even after it is created."
   ]
  },
  {
   "cell_type": "code",
   "execution_count": 3,
   "id": "42ca1b45-84ec-4105-a9e0-d4d9ef0e58b4",
   "metadata": {},
   "outputs": [
    {
     "name": "stdout",
     "output_type": "stream",
     "text": [
      "<class 'list'>\n",
      "['apple', 'banana', 'cherry']\n"
     ]
    }
   ],
   "source": [
    "#creating a list\n",
    "fruits = [\"apple\", \"banana\", \"cherry\"]\n",
    "print(type(fruits))\n",
    "print(fruits)"
   ]
  },
  {
   "cell_type": "markdown",
   "id": "809296f2-476e-43b0-9858-2bb7e86f992d",
   "metadata": {},
   "source": [
    "### *Accessing List Elements*"
   ]
  },
  {
   "cell_type": "code",
   "execution_count": 5,
   "id": "86e5a585-f009-494c-8e9d-5c0a29b4ade9",
   "metadata": {},
   "outputs": [
    {
     "name": "stdout",
     "output_type": "stream",
     "text": [
      "apple\n",
      "banana\n",
      "cherry\n"
     ]
    }
   ],
   "source": [
    "fruits = [\"apple\", \"banana\", \"cherry\"]\n",
    "print(fruits[0])\n",
    "print(fruits[1])\n",
    "print(fruits[2])"
   ]
  },
  {
   "cell_type": "code",
   "execution_count": 7,
   "id": "c03d03ea-ae48-4413-8bcc-d7bad1ad0da2",
   "metadata": {},
   "outputs": [
    {
     "name": "stdout",
     "output_type": "stream",
     "text": [
      "Engineer\n",
      "10.5\n",
      "-1\n"
     ]
    }
   ],
   "source": [
    "#Creating a list with different types of values\n",
    "fruits = ['apple', 10, 10.5, 'banana', -1]\n",
    "print(test_list[0])\n",
    "print(test_list[2])\n",
    "print(test_list[4])"
   ]
  },
  {
   "cell_type": "code",
   "execution_count": 1,
   "id": "0c9959a8-68e0-417b-b5a0-1930aa1aa320",
   "metadata": {},
   "outputs": [
    {
     "name": "stdout",
     "output_type": "stream",
     "text": [
      "cherry\n",
      "banana\n"
     ]
    }
   ],
   "source": [
    "#Accessing the list with negative indexes\n",
    "fruits = [\"apple\", \"banana\", \"cherry\"]\n",
    "print(fruits[-1]) \n",
    "print(fruits[-2]) "
   ]
  },
  {
   "cell_type": "code",
   "execution_count": 19,
   "id": "05f50345-00d2-4ed2-abbc-56728d4e72f8",
   "metadata": {
    "scrolled": true
   },
   "outputs": [
    {
     "name": "stdout",
     "output_type": "stream",
     "text": [
      "['apple', 'banana']\n",
      "['cherry', 'banana']\n"
     ]
    }
   ],
   "source": [
    "#accessing the list to return the range of elements\n",
    "fruits = [\"apple\", \"banana\", \"cherry\"]\n",
    "print(fruits[0: 2])\n",
    "print(fruits[-1:-3:-1])"
   ]
  },
  {
   "cell_type": "markdown",
   "id": "eff4d1b3-b0db-4473-9f84-957bc3694b26",
   "metadata": {},
   "source": [
    "### *Appending List*"
   ]
  },
  {
   "cell_type": "raw",
   "id": "99700f5c-d408-4851-b93b-abd7cc872716",
   "metadata": {},
   "source": [
    "The difference between append and insert\n",
    " - append is add a single element to the end of the list.\n",
    " - insert is add a single element at a specific position in the list."
   ]
  },
  {
   "cell_type": "code",
   "execution_count": 33,
   "id": "42653d0b-e2fe-49ac-8e0e-6d0ed0bf564e",
   "metadata": {},
   "outputs": [
    {
     "name": "stdout",
     "output_type": "stream",
     "text": [
      "['apple', 'banana', 'cherry', 'Orange']\n"
     ]
    }
   ],
   "source": [
    "#appending the elements to the list\n",
    "fruits = [\"apple\", \"banana\", \"cherry\"]\n",
    "fruits.append('Orange')\n",
    "print(fruits)"
   ]
  },
  {
   "cell_type": "markdown",
   "id": "b7d11e31-28f7-4d86-8786-e026018f9688",
   "metadata": {},
   "source": [
    "### *Inserting List*"
   ]
  },
  {
   "cell_type": "code",
   "execution_count": 45,
   "id": "f2d5b7a2-c35a-4f24-bc48-bf32c75bf602",
   "metadata": {},
   "outputs": [
    {
     "name": "stdout",
     "output_type": "stream",
     "text": [
      "['apple', 'banana', 'orange', 'grapes', 'mango', 'cherry']\n"
     ]
    }
   ],
   "source": [
    "#insert the elements to the list\n",
    "fruits = [\"apple\", \"banana\", \"cherry\"]\n",
    "fruits.insert(2,\"mango\")\n",
    "fruits[2:2] = [\"orange\", \"grapes\"]\n",
    "print(fruits)"
   ]
  },
  {
   "cell_type": "markdown",
   "id": "8c65636f-242c-4840-bbc7-ee305cf9ef13",
   "metadata": {},
   "source": [
    "### *Extend List*"
   ]
  },
  {
   "cell_type": "code",
   "execution_count": 69,
   "id": "3489f3b6-dbdc-4a09-bb64-b40248561a50",
   "metadata": {},
   "outputs": [
    {
     "name": "stdout",
     "output_type": "stream",
     "text": [
      "['Alice', 'Bob', 'Charlie', 'David', 'Eve', 'David', 'Eve', 'orange', 'grapes', 'orange', 'grapes']\n"
     ]
    }
   ],
   "source": [
    "fruits = [\"apple\", \"banana\", \"cherry\"]\n",
    "addFruits = [\"orange\", \"grapes\"]\n",
    "guests.extend(addFruits)\n",
    "print(guests)"
   ]
  },
  {
   "cell_type": "markdown",
   "id": "1e5aa0fc-9be6-4001-b1be-0cf1595989e1",
   "metadata": {},
   "source": [
    "### *Remove List*"
   ]
  },
  {
   "cell_type": "raw",
   "id": "a3ff7868-e138-43e4-a954-83be96513c22",
   "metadata": {},
   "source": [
    "will remove the first occurrence from the list that matches a specified value."
   ]
  },
  {
   "cell_type": "code",
   "execution_count": 43,
   "id": "8badfce2-abbf-4458-b32f-b023d4129a39",
   "metadata": {},
   "outputs": [
    {
     "name": "stdout",
     "output_type": "stream",
     "text": [
      "['apple', 'banana', 'grapes', 'mango', 'cherry']\n"
     ]
    }
   ],
   "source": [
    "#removing the elements from the list\n",
    "fruits = ['apple', 'banana', 'orange', 'grapes', 'mango', 'cherry']\n",
    "fruits.remove('orange')\n",
    "print(fruits)"
   ]
  },
  {
   "cell_type": "markdown",
   "id": "f43ccb0b-25d9-49ec-a78a-9b18ce1a5fa4",
   "metadata": {},
   "source": [
    "### *pop List*"
   ]
  },
  {
   "cell_type": "raw",
   "id": "35d7768f-a2b3-4ee8-828d-a5b17d0afaa4",
   "metadata": {},
   "source": [
    "will remove an element at a specified index from the list. If no index is specified, then the last element will be removed."
   ]
  },
  {
   "cell_type": "code",
   "execution_count": 44,
   "id": "b8a9d195-5f83-402d-9c78-e5ed0de96166",
   "metadata": {},
   "outputs": [
    {
     "name": "stdout",
     "output_type": "stream",
     "text": [
      "['apple', 'banana', 'orange', 'mango', 'cherry']\n"
     ]
    }
   ],
   "source": [
    "fruits = ['apple', 'banana', 'orange', 'grapes', 'mango', 'cherry']\n",
    "fruits.pop(3)\n",
    "print(fruits)"
   ]
  },
  {
   "cell_type": "markdown",
   "id": "c00aa6f9-36fb-4c8c-9b56-f1edde829a0a",
   "metadata": {},
   "source": [
    "### *Soring List*"
   ]
  },
  {
   "cell_type": "code",
   "execution_count": 49,
   "id": "1695baf9-29c6-45c3-8392-4bef8183a574",
   "metadata": {},
   "outputs": [
    {
     "name": "stdout",
     "output_type": "stream",
     "text": [
      "[2, 3, 5, 7, 11, 13, 17]\n",
      "[17, 13, 11, 7, 5, 3, 2]\n"
     ]
    }
   ],
   "source": [
    "#sorting ascending & descending\n",
    "prime_numbers = [5, 7, 2, 13, 11, 3, 17]\n",
    "prime_numbers.sort()\n",
    "print(prime_numbers)\n",
    "prime_numbers.sort(reverse = True)\n",
    "print(prime_numbers)"
   ]
  },
  {
   "cell_type": "markdown",
   "id": "bc0b0723-a714-4b5e-a293-d814109437af",
   "metadata": {},
   "source": [
    "### *Concatenating Lists*"
   ]
  },
  {
   "cell_type": "code",
   "execution_count": 65,
   "id": "344ea19a-4d5d-48d9-a5c7-cf26e306d2bd",
   "metadata": {},
   "outputs": [
    {
     "name": "stdout",
     "output_type": "stream",
     "text": [
      "['apple', 'banana', 'orange', 'grapes', 'mango', 'orange']\n",
      "['banana', 'mango', 'grapes', 'orange', 'apple']\n"
     ]
    }
   ],
   "source": [
    "fruits = ['apple', 'banana', 'orange']\n",
    "addFruits = ['grapes', 'mango', 'orange']\n",
    "mergeFruits = fruits + addFruits\n",
    "uniqueFruits = list(set(mergeFruits))\n",
    "print(mergeFruits)\n",
    "print(uniqueFruits)"
   ]
  },
  {
   "cell_type": "code",
   "execution_count": 81,
   "id": "7dc1bdc7-be9e-4979-b818-484a3d1eb2f5",
   "metadata": {},
   "outputs": [
    {
     "name": "stdout",
     "output_type": "stream",
     "text": [
      "yara\n"
     ]
    }
   ],
   "source": [
    "#Program 1\n",
    "list1 = ['xyz', 'yara', 'PYnative']\n",
    "print (max(list1))"
   ]
  },
  {
   "cell_type": "code",
   "execution_count": 1,
   "id": "9f22d54f-898e-414f-85e6-6335a43d8323",
   "metadata": {},
   "outputs": [
    {
     "name": "stdout",
     "output_type": "stream",
     "text": [
      "[5, 15]\n"
     ]
    }
   ],
   "source": [
    "aList = [5, 10, 15, 25]\n",
    "print(aList[::2])"
   ]
  },
  {
   "cell_type": "code",
   "execution_count": 94,
   "id": "6a13e693-0d16-43f8-a447-94e1ca5b9826",
   "metadata": {},
   "outputs": [
    {
     "name": "stdout",
     "output_type": "stream",
     "text": [
      "8\n"
     ]
    }
   ],
   "source": [
    "#program 2: Write a Python program to get the smallest number from a list.\n",
    "\n",
    "list = [3, 4,6,8]\n",
    "min = list[0]\n",
    "for i in list:\n",
    "    if i > min:\n",
    "        min = i\n",
    "print(min)"
   ]
  },
  {
   "cell_type": "code",
   "execution_count": 95,
   "id": "4a750c27-69fc-4672-8e3c-72bec870d723",
   "metadata": {},
   "outputs": [
    {
     "name": "stdout",
     "output_type": "stream",
     "text": [
      "applebananaorange\n"
     ]
    }
   ],
   "source": [
    "#program 3:- convert list to string \n",
    "fruits = ['apple', 'banana', 'orange']\n",
    "str1 = ''.join(fruits)\n",
    "print(str1)"
   ]
  },
  {
   "cell_type": "code",
   "execution_count": 108,
   "id": "01b68710-bbf9-4a9b-9bfb-d43eeff3c332",
   "metadata": {},
   "outputs": [
    {
     "name": "stdout",
     "output_type": "stream",
     "text": [
      "[2, 4, 3, 1, 5, 6, 9, 7, 9, 0]\n"
     ]
    }
   ],
   "source": [
    "#program 4:- multilist to convert single list\n",
    "original_list = [[2, 4, 3], [1, 5, 6], [9], [7, 9, 0]]\n",
    "\n",
    "flattened = []\n",
    "for sublist in original_list:\n",
    "    flattened = flattened + sublist\n",
    "print(flattened)"
   ]
  },
  {
   "cell_type": "code",
   "execution_count": null,
   "id": "85919dbf-6e41-4a4d-9835-76a03e9f62a7",
   "metadata": {},
   "outputs": [],
   "source": [
    "todo = [\"email client\", \"fix bug\", \"attend meeting\", \"code review\"]\n",
    "completed = []\n",
    "\n",
    "while todo:\n",
    "    task = todo[0]\n",
    "    print(f\"Completed: {task}\")\n",
    "    completed.append(task)\n",
    "    todo.remove(task)\n",
    "\n",
    "print(\"\\nAll tasks done!\")\n",
    "print(\"Completed tasks:\", completed)"
   ]
  }
 ],
 "metadata": {
  "kernelspec": {
   "display_name": "Python 3 (ipykernel)",
   "language": "python",
   "name": "python3"
  },
  "language_info": {
   "codemirror_mode": {
    "name": "ipython",
    "version": 3
   },
   "file_extension": ".py",
   "mimetype": "text/x-python",
   "name": "python",
   "nbconvert_exporter": "python",
   "pygments_lexer": "ipython3",
   "version": "3.12.9"
  }
 },
 "nbformat": 4,
 "nbformat_minor": 5
}
