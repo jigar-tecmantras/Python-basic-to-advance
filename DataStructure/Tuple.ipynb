{
 "cells": [
  {
   "cell_type": "markdown",
   "id": "609ef68e-dce6-4f2f-88d7-9adf39fabd18",
   "metadata": {},
   "source": [
    "### *Tuple*"
   ]
  },
  {
   "cell_type": "raw",
   "id": "04a36928-d705-4172-8e8f-e873cfb9ce49",
   "metadata": {},
   "source": [
    "- Ordered, immutable, allows duplicates.\n",
    "- Used for fixed data collections."
   ]
  },
  {
   "cell_type": "code",
   "execution_count": 2,
   "id": "8b4ebf1c-02a1-4e7e-8bb4-d17ceed6412c",
   "metadata": {},
   "outputs": [
    {
     "name": "stdout",
     "output_type": "stream",
     "text": [
      "<class 'tuple'>\n",
      "('apple', 'banana', 'cherry')\n"
     ]
    }
   ],
   "source": [
    "fruits = (\"apple\", \"banana\", \"cherry\")\n",
    "print(type(fruits))\n",
    "print(fruits)"
   ]
  },
  {
   "cell_type": "markdown",
   "id": "84f4016b-4133-4b33-8a12-401178554e81",
   "metadata": {},
   "source": [
    "### *Indexing*"
   ]
  },
  {
   "cell_type": "code",
   "execution_count": 5,
   "id": "cc5111fc-fdbc-43b6-975c-1eddd3c5a90f",
   "metadata": {},
   "outputs": [
    {
     "name": "stdout",
     "output_type": "stream",
     "text": [
      "banana\n"
     ]
    }
   ],
   "source": [
    "\n",
    "fruits = (\"apple\", \"banana\", \"cherry\")\n",
    "print(fruits[1])"
   ]
  },
  {
   "cell_type": "markdown",
   "id": "e18539b7-54ee-490e-94c5-11f491617a92",
   "metadata": {},
   "source": [
    "### *Slicing*"
   ]
  },
  {
   "cell_type": "code",
   "execution_count": 14,
   "id": "b1f1eaf2-7eb6-4813-b4b0-9a041454c419",
   "metadata": {},
   "outputs": [
    {
     "name": "stdout",
     "output_type": "stream",
     "text": [
      "('apple', 'banana', 'cherry')\n",
      "('apple', 'banana')\n"
     ]
    }
   ],
   "source": [
    "fruits = (\"apple\", \"banana\", \"cherry\")\n",
    "print(fruits[0::1])\n",
    "print(fruits[:-1])"
   ]
  },
  {
   "cell_type": "markdown",
   "id": "96c7b746-1e7d-451b-9235-85d5958a6619",
   "metadata": {},
   "source": [
    "### *Length*"
   ]
  },
  {
   "cell_type": "code",
   "execution_count": 17,
   "id": "326a7a76-8d28-4375-999c-874ea46cf00e",
   "metadata": {},
   "outputs": [
    {
     "name": "stdout",
     "output_type": "stream",
     "text": [
      "3\n"
     ]
    }
   ],
   "source": [
    "fruits = (\"apple\", \"banana\", \"cherry\")\n",
    "print(len(fruits))"
   ]
  },
  {
   "cell_type": "markdown",
   "id": "304c7871-ceef-4e03-9f18-dbdf11197ae0",
   "metadata": {},
   "source": [
    "### *Iteration*"
   ]
  },
  {
   "cell_type": "code",
   "execution_count": 19,
   "id": "a8cfb424-657f-452a-b27a-f86aa7b85a82",
   "metadata": {},
   "outputs": [
    {
     "name": "stdout",
     "output_type": "stream",
     "text": [
      "apple\n",
      "banana\n",
      "cherry\n"
     ]
    }
   ],
   "source": [
    "fruits = (\"apple\", \"banana\", \"cherry\")\n",
    "for item in fruits:\n",
    "    print(item)"
   ]
  },
  {
   "cell_type": "markdown",
   "id": "30a5ef7d-0f7c-43bc-b3ae-0c131f6dc95c",
   "metadata": {},
   "source": [
    "### *Concatenation*"
   ]
  },
  {
   "cell_type": "code",
   "execution_count": 21,
   "id": "49c08a31-2a05-4e2d-8c61-c93321ddd325",
   "metadata": {},
   "outputs": [
    {
     "name": "stdout",
     "output_type": "stream",
     "text": [
      "('apple', 'banana', 'cherry', 'mango', 'grapes')\n"
     ]
    }
   ],
   "source": [
    "fru1 = (\"apple\", \"banana\", \"cherry\")\n",
    "fru2 = (\"mango\", \"grapes\")\n",
    "print(fru1 + fru2)"
   ]
  },
  {
   "cell_type": "markdown",
   "id": "0816928f-07f0-4889-acad-11d5834890c6",
   "metadata": {},
   "source": [
    "### *Repetition*"
   ]
  },
  {
   "cell_type": "code",
   "execution_count": 31,
   "id": "68ec373d-01c0-48a6-b6e9-5e04f77b3801",
   "metadata": {},
   "outputs": [
    {
     "name": "stdout",
     "output_type": "stream",
     "text": [
      "('apple', 'banana', 'cherry', 'apple', 'banana', 'cherry')\n"
     ]
    }
   ],
   "source": [
    "fruits = (\"apple\", \"banana\", \"cherry\")\n",
    "print(fruits * 2)"
   ]
  },
  {
   "cell_type": "code",
   "execution_count": 52,
   "id": "c274a987-a5d1-4d62-9f4d-9e5a4d6e45fa",
   "metadata": {},
   "outputs": [
    {
     "name": "stdout",
     "output_type": "stream",
     "text": [
      "Delhi is currently 35°C\n",
      "Mumbai is currently 30°C\n",
      "Kolkata is currently 32°C\n",
      "Chennai is currently 34°C\n"
     ]
    }
   ],
   "source": [
    "weather_log = [\n",
    "    (\"Delhi\", 35),\n",
    "    (\"Mumbai\", 30),\n",
    "    (\"Kolkata\", 32),\n",
    "    (\"Chennai\", 34)\n",
    "]\n",
    "\n",
    "for city, temp in weather_log:\n",
    "    print(f\"{city} is currently {temp}°C\")"
   ]
  },
  {
   "cell_type": "code",
   "execution_count": 38,
   "id": "b9017137-9b51-4b08-a576-6d2b06b13d50",
   "metadata": {},
   "outputs": [
    {
     "name": "stdout",
     "output_type": "stream",
     "text": [
      "3\n"
     ]
    }
   ],
   "source": [
    "#Program 1 \n",
    "num = [10, 20, 30, (10, 20), 40]\n",
    "ctr = 0\n",
    "for n in num:\n",
    "    if isinstance(n, tuple):\n",
    "        break\n",
    "    ctr += 1\n",
    "print(ctr) "
   ]
  },
  {
   "cell_type": "code",
   "execution_count": 56,
   "id": "9d52afc5-064d-4c6d-99ef-c99af95ae1aa",
   "metadata": {},
   "outputs": [
    {
     "name": "stdout",
     "output_type": "stream",
     "text": [
      "28.6\n",
      "🛵 Delivery available in your area.\n"
     ]
    }
   ],
   "source": [
    "#program 2\n",
    "user_location = (28.6139, 77.2090)\n",
    "\n",
    "# Check if user is in delivery range\n",
    "delivery_zone = [(28.6000, 77.2000), (28.6200, 77.2200)]  # (min_lat, min_lng), (max_lat, max_lng)\n",
    "print(delivery_zone[0][0])\n",
    "if (delivery_zone[0][0] <= user_location[0] <= delivery_zone[1][0]) and \\\n",
    "   (delivery_zone[0][1] <= user_location[1] <= delivery_zone[1][1]):\n",
    "    print(\"🛵 Delivery available in your area.\")\n",
    "else:\n",
    "    print(\"⚠️ Delivery not available.\")"
   ]
  },
  {
   "cell_type": "code",
   "execution_count": 61,
   "id": "45070fe8-c0f5-4ee3-86f6-9fb5c8ff8fd5",
   "metadata": {},
   "outputs": [
    {
     "name": "stdout",
     "output_type": "stream",
     "text": [
      "Enter your age:  test\n"
     ]
    },
    {
     "name": "stdout",
     "output_type": "stream",
     "text": [
      "You entered: test\n",
      "Invalid input! Please enter a valid number.\n"
     ]
    }
   ],
   "source": [
    "#program 3\n",
    "age_input = input(\"Enter your age: \")\n",
    "\n",
    "print(\"You entered:\", age_input)\n",
    "\n",
    "# Convert to integer\n",
    "try:\n",
    "    age = int(age_input)\n",
    "    print(\"Converted Age:\", age)\n",
    "except ValueError:\n",
    "    print(\"Invalid input! Please enter a valid number.\")"
   ]
  },
  {
   "cell_type": "markdown",
   "id": "9fd53f46",
   "metadata": {},
   "source": [
    "### concatenation_tuple"
   ]
  },
  {
   "cell_type": "code",
   "execution_count": 1,
   "id": "badbb019-53ca-45e4-94db-14e25990008d",
   "metadata": {},
   "outputs": [
    {
     "name": "stdout",
     "output_type": "stream",
     "text": [
      "(1, 2, 3, 'a', 'b', 'c')\n"
     ]
    }
   ],
   "source": [
    "\n",
    "a = (1, 2, 3)\n",
    "b= (\"a\", \"b\", \"c\")\n",
    "\n",
    "print(a + b)"
   ]
  },
  {
   "cell_type": "markdown",
   "id": "9250caea",
   "metadata": {},
   "source": [
    "### Tuples method"
   ]
  },
  {
   "cell_type": "code",
   "execution_count": 7,
   "id": "5e8a7a23",
   "metadata": {},
   "outputs": [
    {
     "name": "stdout",
     "output_type": "stream",
     "text": [
      "1\n",
      "2\n"
     ]
    }
   ],
   "source": [
    "print(a.count(2))\n",
    "print(a.index(3))"
   ]
  },
  {
   "cell_type": "markdown",
   "id": "70389758",
   "metadata": {},
   "source": [
    "### packing and unpacking"
   ]
  },
  {
   "cell_type": "code",
   "execution_count": null,
   "id": "283d7a6d",
   "metadata": {},
   "outputs": [
    {
     "name": "stdout",
     "output_type": "stream",
     "text": [
      "('Mahesh', 30, 'Pune')\n"
     ]
    }
   ],
   "source": [
    "# packing\n",
    "data = (\"Mahesh\", 30, \"Pune\")\n",
    "print(data)"
   ]
  },
  {
   "cell_type": "markdown",
   "id": "0637459d-a5ed-4594-9fcf-2ef01a4ec067",
   "metadata": {},
   "source": [
    "### Nested Tuples"
   ]
  },
  {
   "cell_type": "code",
   "execution_count": 10,
   "id": "0ab6e904-ea7d-47d1-aa0d-7095792edc8c",
   "metadata": {},
   "outputs": [
    {
     "name": "stdout",
     "output_type": "stream",
     "text": [
      "(1, 2, 3)\n",
      "False\n",
      "c\n"
     ]
    }
   ],
   "source": [
    "lst = ((1,2,3), ('a', 'b', 'c'), (True, False))\n",
    "print(lst[0])\n",
    "print(lst[2][1])\n",
    "print(lst[1][2])"
   ]
  },
  {
   "cell_type": "markdown",
   "id": "a948381e-86d3-4cfd-b483-381a2636b1a3",
   "metadata": {},
   "source": [
    "### iterating over nested tuple"
   ]
  },
  {
   "cell_type": "code",
   "execution_count": 15,
   "id": "89ead96f-3393-4338-862f-e3c0a1c1fe5a",
   "metadata": {},
   "outputs": [
    {
     "name": "stdout",
     "output_type": "stream",
     "text": [
      "1 2 3 \n",
      "a b c \n",
      "True False \n"
     ]
    }
   ],
   "source": [
    "for nested in lst:\n",
    "    for i in nested:\n",
    "        print(i, end=\" \")\n",
    "    print()"
   ]
  },
  {
   "cell_type": "code",
   "execution_count": null,
   "id": "13eb31ef-de01-4f6e-b062-6e7d92544932",
   "metadata": {},
   "outputs": [],
   "source": [
    "    "
   ]
  }
 ],
 "metadata": {
  "kernelspec": {
   "display_name": "Python [conda env:base] *",
   "language": "python",
   "name": "conda-base-py"
  },
  "language_info": {
   "codemirror_mode": {
    "name": "ipython",
    "version": 3
   },
   "file_extension": ".py",
   "mimetype": "text/x-python",
   "name": "python",
   "nbconvert_exporter": "python",
   "pygments_lexer": "ipython3",
   "version": "3.12.7"
  }
 },
 "nbformat": 4,
 "nbformat_minor": 5
}
