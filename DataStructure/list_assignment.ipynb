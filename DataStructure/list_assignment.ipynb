{
 "cells": [
  {
   "cell_type": "markdown",
   "id": "791281fc",
   "metadata": {},
   "source": [
    "# Module 3: Data Structures Assignments\n",
    "## Lesson 3.1: Lists\n",
    "### Assignment 1: Creating and Accessing Lists\n",
    "**question 1** Create a list of the first 20 positive integers. Print the list."
   ]
  },
  {
   "cell_type": "code",
   "execution_count": 1,
   "id": "3fdb9b0e",
   "metadata": {},
   "outputs": [
    {
     "name": "stdout",
     "output_type": "stream",
     "text": [
      "[1, 2, 3, 4, 5, 6, 7, 8, 9, 10, 11, 12, 13, 14, 15, 16, 17, 18, 19, 20]\n"
     ]
    }
   ],
   "source": [
    "pos = list(range(1, 21))\n",
    "print(pos)"
   ]
  },
  {
   "cell_type": "markdown",
   "id": "199572a8",
   "metadata": {},
   "source": [
    "### Assignment 2: Accessing List Elements\n",
    "\n",
    "**question 2** Print the first, middle, and last elements of the list created in Assignment 1."
   ]
  },
  {
   "cell_type": "code",
   "execution_count": 5,
   "id": "cc1436f5",
   "metadata": {},
   "outputs": [
    {
     "name": "stdout",
     "output_type": "stream",
     "text": [
      "1\n",
      "11\n",
      "20\n"
     ]
    }
   ],
   "source": [
    "\n",
    "print(pos[0])\n",
    "print(pos[len(pos) // 2])\n",
    "print(pos[-1])"
   ]
  },
  {
   "cell_type": "markdown",
   "id": "c030c482",
   "metadata": {},
   "source": [
    "### Assignment 3: List Slicing\n",
    "\n",
    "**question 3** Print the first five elements, the last five elements, and the elements from index 5 to 15 of the list created in Assignment 1."
   ]
  },
  {
   "cell_type": "code",
   "execution_count": 11,
   "id": "26e9317b",
   "metadata": {},
   "outputs": [
    {
     "name": "stdout",
     "output_type": "stream",
     "text": [
      "[1, 2, 3, 4, 5]\n",
      "[16, 17, 18, 19, 20]\n",
      "[6, 7, 8, 9, 10, 11, 12, 13, 14, 15, 16]\n"
     ]
    }
   ],
   "source": [
    "print(pos[: 5])\n",
    "print(pos[-5:])\n",
    "print(pos[5:16])"
   ]
  },
  {
   "cell_type": "markdown",
   "id": "52d09ba7",
   "metadata": {},
   "source": [
    "### Assignment 4: List Comprehensions\n",
    "\n",
    "**question 4** Create a new list containing the squares of the first 10 positive integers using a list comprehension. Print the new list."
   ]
  },
  {
   "cell_type": "code",
   "execution_count": 13,
   "id": "3a336567",
   "metadata": {},
   "outputs": [
    {
     "name": "stdout",
     "output_type": "stream",
     "text": [
      "[1, 4, 9, 16, 25, 36, 49, 64, 81, 100]\n"
     ]
    }
   ],
   "source": [
    "lst = [i**2 for i in range(1, 11)]\n",
    "print(lst)"
   ]
  },
  {
   "cell_type": "markdown",
   "id": "e0e36fe0",
   "metadata": {},
   "source": [
    "### Assignment 5: Filtering Lists\n",
    "\n",
    "**question 5:** Create a new list containing only the even numbers from the list created in Assignment 1 using a list comprehension. Print the new list."
   ]
  },
  {
   "cell_type": "code",
   "execution_count": null,
   "id": "da5b16c1",
   "metadata": {},
   "outputs": [
    {
     "data": {
      "text/plain": [
       "[2, 4, 6, 8, 10, 12, 14, 16, 18, 20]"
      ]
     },
     "execution_count": 28,
     "metadata": {},
     "output_type": "execute_result"
    }
   ],
   "source": [
    "[i for i in pos if i%2 == 0]\n"
   ]
  },
  {
   "cell_type": "markdown",
   "id": "2c1c30f2",
   "metadata": {},
   "source": [
    "### Assignment 6: List Methods\n",
    "\n",
    "**Question 6:** Create a list of random numbers and sort it in ascending and descending order. Remove the duplicates from the list and print the modified list."
   ]
  },
  {
   "cell_type": "code",
   "execution_count": null,
   "id": "1b719eb7",
   "metadata": {},
   "outputs": [
    {
     "name": "stdout",
     "output_type": "stream",
     "text": [
      "[1, 13, 4, 3, 19, 2, 9, 5, 10, 7]\n",
      "[1, 2, 3, 4, 5, 7, 9, 10, 13, 19]\n",
      "[19, 13, 10, 9, 7, 5, 4, 3, 2, 1]\n",
      "{1, 2, 3, 4, 5, 7, 9, 10, 13, 19}\n"
     ]
    }
   ],
   "source": [
    "import random\n",
    "lst  = random.sample(range(1, 21), 10)\n",
    "print(lst)\n",
    "\n",
    "asc = sorted(lst)\n",
    "print(asc)\n",
    "\n",
    "desc = sorted(lst, reverse=True)\n",
    "print(desc)\n",
    "\n",
    "remo = set(lst)\n",
    "print(remo)\n"
   ]
  },
  {
   "cell_type": "markdown",
   "id": "15f4f0ac",
   "metadata": {},
   "source": [
    "### Assignment 7: Nested Lists\n",
    "\n",
    "**Question 7** Create a nested list representing a 3x3 matrix and print the matrix. Access and print the element at the second row and third column."
   ]
  },
  {
   "cell_type": "code",
   "execution_count": null,
   "id": "01cb53bb",
   "metadata": {},
   "outputs": [
    {
     "name": "stdout",
     "output_type": "stream",
     "text": [
      "[1, 2, 3]\n",
      "[4, 5, 6]\n",
      "[7, 8, 9]\n",
      "print the second row [4, 5, 6]\n",
      "print the third column 6\n"
     ]
    }
   ],
   "source": [
    "matrix = [\n",
    "    [1, 2, 3],\n",
    "    [4, 5, 6],\n",
    "    [7, 8, 9],\n",
    "]\n",
    "\n",
    "for row in matrix:\n",
    "    print(row)\n",
    "\n",
    "print(\"print the second row\", matrix[1])\n",
    "print(\"print the third column\", matrix[1][2])\n",
    "        "
   ]
  },
  {
   "cell_type": "markdown",
   "id": "7f80a9a0",
   "metadata": {},
   "source": [
    "### Assignment 8: List of Dictionaries\n",
    "\n",
    "**Question 8** Create a list of dictionaries where each dictionary represents a student with keys 'name' and 'score'. Sort the list of dictionaries by the 'score' in descending order and print the sorted list."
   ]
  },
  {
   "cell_type": "code",
   "execution_count": 1,
   "id": "d4095628",
   "metadata": {},
   "outputs": [
    {
     "name": "stdout",
     "output_type": "stream",
     "text": [
      "[{'name': 'Charlie', 'score': 95}, {'name': 'Alice', 'score': 88}, {'name': 'Eve', 'score': 78}, {'name': 'Bob', 'score': 72}, {'name': 'David', 'score': 65}]\n"
     ]
    }
   ],
   "source": [
    "students = [\n",
    "    {'name': 'Alice', 'score': 88},\n",
    "    {'name': 'Bob', 'score': 72},\n",
    "    {'name': 'Charlie', 'score': 95},\n",
    "    {'name': 'David', 'score': 65},\n",
    "    {'name': 'Eve', 'score': 78}\n",
    "]\n",
    "stu = sorted(students, key=lambda x: x['score'], reverse=True)\n",
    "\n",
    "print(stu)"
   ]
  },
  {
   "cell_type": "markdown",
   "id": "353470b1",
   "metadata": {},
   "source": [
    "### Assignment 9: Matrix Transposition\n",
    "**Question 9** Write a function that takes a 3x3 matrix (nested list) as input and returns its transpose. Print the original and transposed matrices."
   ]
  },
  {
   "cell_type": "code",
   "execution_count": 11,
   "id": "e7babaf1",
   "metadata": {},
   "outputs": [
    {
     "name": "stdout",
     "output_type": "stream",
     "text": [
      "[1, 2, 3]\n",
      "[4, 5, 6]\n",
      "[7, 8, 9]\n",
      "[1, 4, 7]\n",
      "[2, 5, 8]\n",
      "[3, 6, 9]\n"
     ]
    }
   ],
   "source": [
    "original = [\n",
    "    [1, 2, 3],\n",
    "    [4, 5, 6],\n",
    "    [7, 8, 9]\n",
    "]\n",
    "for row in original:\n",
    "    print(row)\n",
    "transposed = []\n",
    "\n",
    "for i in range(len(original)):\n",
    "    add_row = []\n",
    "    for j in range(len(original[i])):\n",
    "        add_row.append(original[j][i])\n",
    "    transposed.append(add_row)\n",
    "    \n",
    "for tran in transposed:\n",
    "    print(tran)\n",
    "\n",
    "\n"
   ]
  },
  {
   "cell_type": "markdown",
   "id": "1c44b104",
   "metadata": {},
   "source": [
    "### Assignment 10: Flattening a Nested List\n",
    "\n",
    "Write a function that takes a nested list and flattens it into a single list. Print the original and flattened lists."
   ]
  },
  {
   "cell_type": "code",
   "execution_count": 14,
   "id": "4b025dbf",
   "metadata": {},
   "outputs": [
    {
     "name": "stdout",
     "output_type": "stream",
     "text": [
      "[1, 2, 3, 4, 5, 6]\n"
     ]
    }
   ],
   "source": [
    "nes = [[1, 2], [3, 4], [5, 6]]\n",
    "flat = []\n",
    "for row in nes:\n",
    "    for num in row:\n",
    "        flat.append(num)\n",
    "print(flat)"
   ]
  },
  {
   "cell_type": "markdown",
   "id": "4f8bb29c",
   "metadata": {},
   "source": [
    "### Assignment 11: List Manipulation\n",
    "\n",
    "Create a list of the first 10 positive integers. Remove the elements at indices 2, 4, and 6, and insert the element '99' at index 5. Print"
   ]
  },
  {
   "cell_type": "code",
   "execution_count": 21,
   "id": "1efb73b3",
   "metadata": {},
   "outputs": [
    {
     "name": "stdout",
     "output_type": "stream",
     "text": [
      "[16, 8, 20, 15, 1, 14, 13, 11, 17, 6]\n",
      "[16, 8, 15, 14, 11, 99, 17, 6]\n"
     ]
    }
   ],
   "source": [
    "import random\n",
    "lst = random.sample(range(1, 21), 10)\n",
    "print(lst)\n",
    "del lst[6]\n",
    "del lst[4]\n",
    "del lst[2]\n",
    "\n",
    "lst.insert(5, 99)\n",
    "print(lst)\n"
   ]
  },
  {
   "cell_type": "markdown",
   "id": "7ca79cd0",
   "metadata": {},
   "source": [
    "### Assignment 12: List Zipping\n",
    "\n",
    "Create two lists of the same length. Use the `zip` function to combine these lists into a list of tuples and print the result."
   ]
  },
  {
   "cell_type": "code",
   "execution_count": 23,
   "id": "d3224102",
   "metadata": {},
   "outputs": [
    {
     "name": "stdout",
     "output_type": "stream",
     "text": [
      "[2, 19, 6, 11, 20]\n",
      "[2, 15, 6, 16, 3]\n",
      "[(2, 2), (19, 15), (6, 6), (11, 16), (20, 3)]\n"
     ]
    }
   ],
   "source": [
    "import random\n",
    "lst = random.sample(range(1, 21), 5)\n",
    "lst1 = random.sample(range(1, 21), 5)\n",
    "\n",
    "zipped = list(zip(lst, lst1))\n",
    "\n",
    "print(lst)\n",
    "print(lst1)\n",
    "print(zipped)"
   ]
  },
  {
   "cell_type": "markdown",
   "id": "147808fd",
   "metadata": {},
   "source": [
    "### Assignment 13: List Reversal\n",
    "\n",
    "Write a function that takes a list and returns a new list with the elements in reverse order. Print the original and reversed lists."
   ]
  },
  {
   "cell_type": "code",
   "execution_count": 24,
   "id": "f21607ee",
   "metadata": {},
   "outputs": [
    {
     "name": "stdout",
     "output_type": "stream",
     "text": [
      "[1, 12, 17, 4, 10]\n",
      "[10, 4, 17, 12, 1]\n"
     ]
    }
   ],
   "source": [
    "import random\n",
    "lst = random.sample(range(1, 21), 5)\n",
    "rev = reversed(lst)\n",
    "print(lst)\n",
    "print(list(rev))"
   ]
  },
  {
   "cell_type": "markdown",
   "id": "9569ecb6",
   "metadata": {},
   "source": [
    "### Assignment 14: List Rotation\n",
    "\n",
    "Write a function that rotates a list by n positions. Print the original and rotated lists."
   ]
  },
  {
   "cell_type": "code",
   "execution_count": 40,
   "id": "68625e0c",
   "metadata": {},
   "outputs": [
    {
     "name": "stdout",
     "output_type": "stream",
     "text": [
      "Original List: [1, 12, 17, 4, 10]\n",
      "Rotated List: [4, 10, 1, 12, 17]\n"
     ]
    }
   ],
   "source": [
    "n = 3\n",
    "\n",
    "rotated_list = lst[n:] + lst[:n]\n",
    "\n",
    "print(\"Original List:\", lst)\n",
    "print(\"Rotated List:\", rotated_list)"
   ]
  },
  {
   "cell_type": "markdown",
   "id": "4dd03072",
   "metadata": {},
   "source": [
    "### Assignment 15: List Intersection\n",
    "\n",
    "Write a function that takes two lists and returns a new list containing only the elements that are present in both lists. Print the intersected list."
   ]
  },
  {
   "cell_type": "code",
   "execution_count": 45,
   "id": "48f2e527",
   "metadata": {},
   "outputs": [
    {
     "name": "stdout",
     "output_type": "stream",
     "text": [
      "{3, 4, 5}\n"
     ]
    }
   ],
   "source": [
    "list1 = [1, 2, 3, 4, 5]\n",
    "list2 = [3, 4, 5, 6, 7]\n",
    "\n",
    "common = set(list1) & set(list2)\n",
    "print(common)"
   ]
  },
  {
   "cell_type": "code",
   "execution_count": null,
   "id": "0ba58329",
   "metadata": {},
   "outputs": [],
   "source": []
  }
 ],
 "metadata": {
  "kernelspec": {
   "display_name": "Python [conda env:base] *",
   "language": "python",
   "name": "conda-base-py"
  },
  "language_info": {
   "codemirror_mode": {
    "name": "ipython",
    "version": 3
   },
   "file_extension": ".py",
   "mimetype": "text/x-python",
   "name": "python",
   "nbconvert_exporter": "python",
   "pygments_lexer": "ipython3",
   "version": "3.12.7"
  }
 },
 "nbformat": 4,
 "nbformat_minor": 5
}
