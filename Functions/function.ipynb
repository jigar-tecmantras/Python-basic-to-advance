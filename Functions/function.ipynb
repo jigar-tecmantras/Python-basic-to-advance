{
 "cells": [
  {
   "cell_type": "markdown",
   "id": "199c41b8",
   "metadata": {},
   "source": [
    "### Introduction to Functions\n",
    "Definition:\n",
    "\n",
    "A function is a block of code that performs a specific task. Functions help in organizing code, reusing code, and improving readability."
   ]
  },
  {
   "cell_type": "code",
   "execution_count": null,
   "id": "059b3d83",
   "metadata": {},
   "outputs": [],
   "source": [
    "## syntax\n",
    "def function_name(parameters):\n",
    "    \"\"\"Docstring\"\"\"\n",
    "    # Function body\n",
    "    return expression"
   ]
  },
  {
   "cell_type": "markdown",
   "id": "e6cadf4b",
   "metadata": {},
   "source": [
    "### Call the function"
   ]
  },
  {
   "cell_type": "code",
   "execution_count": 1,
   "id": "52676a44",
   "metadata": {},
   "outputs": [
    {
     "data": {
      "text/plain": [
       "'odd'"
      ]
     },
     "execution_count": 1,
     "metadata": {},
     "output_type": "execute_result"
    }
   ],
   "source": [
    "def even_or_odd(num):\n",
    "    \"\"\"Find even or odd\"\"\" #\"\"\"Docstring\"\"\"\n",
    "    if(num%2 == 0):\n",
    "        return \"even\"\n",
    "    else:\n",
    "        return \"odd\"\n",
    "even_or_odd(5)"
   ]
  },
  {
   "cell_type": "markdown",
   "id": "8918cf1c",
   "metadata": {},
   "source": [
    "### Function with multiple perameter"
   ]
  },
  {
   "cell_type": "code",
   "execution_count": 4,
   "id": "91d789ec",
   "metadata": {},
   "outputs": [
    {
     "name": "stdout",
     "output_type": "stream",
     "text": [
      "5\n"
     ]
    }
   ],
   "source": [
    "def add (a, b):\n",
    "    \"\"\"Add two numbers\"\"\"\n",
    "    return a + b\n",
    "\n",
    "print(add(2, 3))"
   ]
  },
  {
   "cell_type": "markdown",
   "id": "a89842c4",
   "metadata": {},
   "source": [
    "### Default parameters"
   ]
  },
  {
   "cell_type": "code",
   "execution_count": null,
   "id": "5992a912",
   "metadata": {},
   "outputs": [
    {
     "name": "stdout",
     "output_type": "stream",
     "text": [
      "Hello jigar\n"
     ]
    }
   ],
   "source": [
    "def name(name):\n",
    "    \"\"\"Print name\"\"\"\n",
    "    print(\"Hello \" + name)\n",
    "name(\"jigar\")"
   ]
  },
  {
   "cell_type": "markdown",
   "id": "5789c667",
   "metadata": {},
   "source": [
    "### Variable Length Arguments & Positional And Keywords arguments\n"
   ]
  },
  {
   "cell_type": "code",
   "execution_count": 10,
   "id": "f5d1c935",
   "metadata": {},
   "outputs": [
    {
     "name": "stdout",
     "output_type": "stream",
     "text": [
      "1\n",
      "2\n",
      "3\n",
      "4\n",
      "5\n"
     ]
    }
   ],
   "source": [
    "# positional arguments\n",
    "def print_numbers(*num):\n",
    "    for number in num:\n",
    "        print(number)\n",
    "print_numbers(1, 2, 3, 4, 5)"
   ]
  },
  {
   "cell_type": "markdown",
   "id": "353826bc",
   "metadata": {},
   "source": [
    "positional arguments is call * args\n",
    "\n",
    "keyword arguments is call ** args"
   ]
  },
  {
   "cell_type": "code",
   "execution_count": 12,
   "id": "a7625e0d",
   "metadata": {},
   "outputs": [
    {
     "name": "stdout",
     "output_type": "stream",
     "text": [
      "name : jigar\n",
      "age : 25\n"
     ]
    }
   ],
   "source": [
    "# keyword arguments is key and value\n",
    "def print_detail(**num):\n",
    "    for key, value in num.items():\n",
    "        print(f\"{key} : {value}\")\n",
    "print_detail(name=\"jigar\", age=25)"
   ]
  },
  {
   "cell_type": "markdown",
   "id": "a6b1f338-1679-4581-8c3e-5dc7818a6a90",
   "metadata": {},
   "source": [
    "### Convert temperature"
   ]
  },
  {
   "cell_type": "code",
   "execution_count": 16,
   "id": "95b399e7-e4af-42c7-bc7d-5253c2d833a5",
   "metadata": {},
   "outputs": [
    {
     "name": "stdout",
     "output_type": "stream",
     "text": [
      "77.0\n",
      "25.0\n"
     ]
    }
   ],
   "source": [
    "def convert_tempature(temp,unit):\n",
    "    \"\"\" This function is used to convert temperature\"\"\"\n",
    "    if unit=='c':\n",
    "        return temp*9/5 + 32 #convert calsius to fahrenheit\n",
    "    elif unit=='f':\n",
    "        return (temp-32)*5/9 #convert fahrenheit to calsius\n",
    "\n",
    "print(convert_tempature(25, 'c'))\n",
    "print(convert_tempature(77, 'f'))\n"
   ]
  },
  {
   "cell_type": "code",
   "execution_count": 48,
   "id": "8d0b368e-b191-4254-ab0b-9c74022e609b",
   "metadata": {},
   "outputs": [
    {
     "name": "stdout",
     "output_type": "stream",
     "text": [
      "False\n",
      "True\n"
     ]
    }
   ],
   "source": [
    "def is_strong_password(passwd):\n",
    "    if len(passwd)<8:\n",
    "        return False\n",
    "    if not any(char.isdigit() for char in passwd):\n",
    "        return False\n",
    "    if not any(char.islower() for char in passwd):\n",
    "        return False\n",
    "    if not any(char.isupper() for char in passwd):\n",
    "        return False\n",
    "    if not any(char in '!@#$%^&*()_+' for char in passwd):\n",
    "        return False\n",
    "    return True\n",
    "\n",
    "print(is_strong_password(\"WeakPwd\"))\n",
    "print(is_strong_password(\"Weak@2Pwd\"))"
   ]
  },
  {
   "cell_type": "code",
   "execution_count": 54,
   "id": "5c74b3aa-745b-4f34-9bb4-d48c8410ebf8",
   "metadata": {},
   "outputs": [
    {
     "name": "stdout",
     "output_type": "stream",
     "text": [
      "8.600000000000001\n"
     ]
    }
   ],
   "source": [
    "def cal_total_cost(cart):\n",
    "    total_cost = 0\n",
    "    for item in cart:\n",
    "        total_cost+= item['price']*item['qty']\n",
    "    return total_cost\n",
    "cart=[\n",
    "    {\"name\":'apple', 'price':0.5, \"qty\":4},\n",
    "    {\"name\":'banana', 'price':0.6, \"qty\":3},\n",
    "    {\"name\":'orange', 'price':0.8, \"qty\":6}\n",
    "]\n",
    "total_cost = cal_total_cost(cart) \n",
    "print(total_cost)"
   ]
  },
  {
   "cell_type": "code",
   "execution_count": 60,
   "id": "ffcf534e-7e0a-48e0-92dd-3af64fed10a1",
   "metadata": {},
   "outputs": [
    {
     "name": "stdout",
     "output_type": "stream",
     "text": [
      "True\n"
     ]
    }
   ],
   "source": [
    "def check_plindrome(s):\n",
    "    s = s.lower().replace(\" \", \"\")\n",
    "    return s==s[::-1]\n",
    "\n",
    "print(check_plindrome(\"madam\"))"
   ]
  },
  {
   "cell_type": "code",
   "execution_count": null,
   "id": "f073f88b-8a4a-454c-9b78-72c48524fe2f",
   "metadata": {},
   "outputs": [
    {
     "name": "stdout",
     "output_type": "stream",
     "text": [
      "120\n"
     ]
    }
   ],
   "source": [
    "def factorial(n):\n",
    "    if n==0:\n",
    "        return 1\n",
    "    else:\n",
    "        return n*factorial(n-1)\n",
    "print(factorial(5))"
   ]
  },
  {
   "cell_type": "code",
   "execution_count": null,
   "id": "6d07e525-e298-4591-a92c-d5f9478cebfa",
   "metadata": {},
   "outputs": [],
   "source": []
  },
  {
   "cell_type": "code",
   "execution_count": null,
   "id": "ea2c46cc-a2a3-45cd-8da1-945021cf796a",
   "metadata": {},
   "outputs": [],
   "source": []
  }
 ],
 "metadata": {
  "kernelspec": {
   "display_name": "Python [conda env:base] *",
   "language": "python",
   "name": "conda-base-py"
  }
 },
 "nbformat": 4,
 "nbformat_minor": 5
}
