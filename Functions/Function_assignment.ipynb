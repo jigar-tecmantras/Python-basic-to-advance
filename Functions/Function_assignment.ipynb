{
 "cells": [
  {
   "cell_type": "markdown",
   "id": "efe28197",
   "metadata": {},
   "source": [
    "# Module 4: Advanced Functions Assignments\n",
    "## Lesson 4.1: Defining Functions\n",
    "### Assignment 1: Fibonacci Sequence with Memoization\n",
    "\n",
    "Define a recursive function to calculate the nth Fibonacci number using memoization. Test the function with different inputs."
   ]
  },
  {
   "cell_type": "code",
   "execution_count": 1,
   "id": "19b3fc14",
   "metadata": {},
   "outputs": [
    {
     "name": "stdout",
     "output_type": "stream",
     "text": [
      "55\n"
     ]
    }
   ],
   "source": [
    "def fibonacci(n, memo={}):\n",
    "    if n in memo:\n",
    "        return memo[n]\n",
    "    if n <= 1:\n",
    "        return n\n",
    "    memo[n] = fibonacci(n - 1, memo) + fibonacci(n - 2, memo)\n",
    "    return memo[n]\n",
    "\n",
    "print(fibonacci(10))"
   ]
  },
  {
   "cell_type": "markdown",
   "id": "3214c3e7",
   "metadata": {},
   "source": [
    "### Assignment 2: Function with Nested Default Arguments\n",
    "\n",
    "Define a function that takes two arguments, a and b, where b is a dictionary with a default value of an empty dictionary. The function should add a new key-value pair to the dictionary and return it. Test the function with different inputs."
   ]
  },
  {
   "cell_type": "code",
   "execution_count": 7,
   "id": "1516a7a3",
   "metadata": {},
   "outputs": [
    {
     "name": "stdout",
     "output_type": "stream",
     "text": [
      "{'a': 3, 'b': {}}\n",
      "{'a': 5, 'b': 6}\n"
     ]
    }
   ],
   "source": [
    "def nested_func(a, b=None):\n",
    "    if b is None:\n",
    "        b = {}\n",
    "\n",
    "    new_dict = {\n",
    "        'a': a,\n",
    "        'b': b,\n",
    "    }\n",
    "    return new_dict\n",
    "print(nested_func(3))\n",
    "print(nested_func(5, 6 ))"
   ]
  },
  {
   "cell_type": "markdown",
   "id": "39c69064",
   "metadata": {},
   "source": [
    "### Assignment 3: Function with Variable Keyword Arguments\n",
    "\n",
    "Define a function that takes a variable number of keyword arguments and returns a dictionary containing only those key-value pairs where the value is an integer. Test the function with different inputs."
   ]
  },
  {
   "cell_type": "code",
   "execution_count": 12,
   "id": "a8d9fe4c",
   "metadata": {},
   "outputs": [
    {
     "name": "stdout",
     "output_type": "stream",
     "text": [
      "{'age': 26, 'score': 100}\n",
      "{}\n"
     ]
    }
   ],
   "source": [
    "def filter_integers(**kwargs):\n",
    "    result = {}\n",
    "    for key, value in kwargs.items():\n",
    "        if isinstance(value, int):\n",
    "            result[key] = value\n",
    "    return result\n",
    "print(filter_integers(name='jigar', age=26, height=5.4, score=100))\n",
    "print(filter_integers(x='x', y='y'))"
   ]
  },
  {
   "cell_type": "markdown",
   "id": "1e369175",
   "metadata": {},
   "source": [
    "### Assignment 4: Function with Callback\n",
    "\n",
    "Define a function that takes another function as a callback and a list of integers. The function should apply the callback to each integer in the list and return a new list with the results. Test with different callback functions."
   ]
  },
  {
   "cell_type": "code",
   "execution_count": 19,
   "id": "1fb99c79",
   "metadata": {},
   "outputs": [
    {
     "name": "stdout",
     "output_type": "stream",
     "text": [
      "[10, 25, 20, 100, 30, 225]\n"
     ]
    }
   ],
   "source": [
    "def my_callback(callback, square,  number):\n",
    "    result = []\n",
    "    for num in number:\n",
    "        result.append(callback(num))\n",
    "        result.append(square(num))\n",
    "    return result\n",
    "\n",
    "def double(x):\n",
    "    return x * 2\n",
    "\n",
    "def square(x):\n",
    "    return x * x\n",
    "    \n",
    "\n",
    "print(my_callback(double,square, [5, 10, 15]))\n"
   ]
  },
  {
   "cell_type": "markdown",
   "id": "a1144d9c",
   "metadata": {},
   "source": [
    "### Assignment 5: Function that Returns a Function\n",
    "\n",
    "Define a function that returns another function. The returned function should take an integer and return its square. Test the returned function with different inputs."
   ]
  },
  {
   "cell_type": "code",
   "execution_count": 23,
   "id": "d2fe6205",
   "metadata": {},
   "outputs": [
    {
     "name": "stdout",
     "output_type": "stream",
     "text": [
      "25\n"
     ]
    }
   ],
   "source": [
    "def get_square_function():\n",
    "    def square(num):\n",
    "        return num * num\n",
    "    return square\n",
    "square_func = get_square_function()\n",
    "print(square_func(5))"
   ]
  },
  {
   "cell_type": "markdown",
   "id": "7cd3f6ff",
   "metadata": {},
   "source": [
    "### Assignment 6: Function with Decorators\n",
    "\n",
    "Define a function that calculates the time taken to execute another function. Apply this decorator to a function that performs a complex calculation. Test the decorated function with different inputs."
   ]
  },
  {
   "cell_type": "code",
   "execution_count": 25,
   "id": "86b9b05d",
   "metadata": {},
   "outputs": [
    {
     "name": "stdout",
     "output_type": "stream",
     "text": [
      "Function 'complex_calculation' took 0.0015 seconds to run.\n",
      "Result: 333283335000\n"
     ]
    }
   ],
   "source": [
    "import time\n",
    "\n",
    "def timer_decorator(func):\n",
    "    def wrapper(*args, **kwargs):\n",
    "        start_time = time.time() \n",
    "        result = func(*args, **kwargs) \n",
    "        end_time = time.time()  \n",
    "        duration = end_time - start_time\n",
    "        print(f\"Function '{func.__name__}' took {duration:.4f} seconds to run.\")\n",
    "        return result\n",
    "    return wrapper\n",
    "\n",
    "@timer_decorator\n",
    "def complex_calculation(n):\n",
    "    total = 0\n",
    "    for i in range(n):\n",
    "        total += i ** 2\n",
    "    return total\n",
    "\n",
    "print(\"Result:\", complex_calculation(10000)) "
   ]
  },
  {
   "cell_type": "markdown",
   "id": "83d13331",
   "metadata": {},
   "source": [
    "### Assignment 7: Higher-Order Function for Filtering and Mapping\n",
    "\n",
    "Define a higher-order function that takes two functions, a filter function and a map function, along with a list of integers. The higher-order function should first filter the integers using the filter function and then apply the map function to the filtered integers. Test with different filter and map functions."
   ]
  },
  {
   "cell_type": "code",
   "execution_count": null,
   "id": "075714c2",
   "metadata": {},
   "outputs": [],
   "source": [
    "def filter_then_map(filter_func, map_func, numbers):\n",
    "\n",
    "    filtered = filter(filter_func, numbers)\n",
    "\n",
    "    mapped = map(map_func, filtered)\n",
    "\n",
    "    return list(mapped)\n",
    "\n",
    "def is_even(x):\n",
    "    return x % 2 == 0\n",
    "\n",
    "def square(x):\n",
    "    return x * x\n",
    "\n",
    "def greater_than_5(x):\n",
    "    return x > 5\n",
    "\n",
    "def triple(x):\n",
    "    return x * 3\n",
    "\n",
    "\n",
    "numbers = [1, 2, 3, 4, 5, 6, 7, 8, 9, 10]\n",
    "\n",
    "print(filter_then_map(is_even, square, numbers))"
   ]
  },
  {
   "cell_type": "markdown",
   "id": "481b50e3",
   "metadata": {},
   "source": [
    "### Assignment 8: Function Composition\n",
    "\n",
    "Define a function that composes two functions, f and g, such that the result is f(g(x)). Test with different functions f and g."
   ]
  },
  {
   "cell_type": "code",
   "execution_count": 28,
   "id": "bc502650",
   "metadata": {},
   "outputs": [
    {
     "name": "stdout",
     "output_type": "stream",
     "text": [
      "25\n"
     ]
    }
   ],
   "source": [
    "def compose(f, g):\n",
    "    return lambda x: f(g(x))\n",
    "\n",
    "\n",
    "def add_two(x):\n",
    "    return x + 2\n",
    "\n",
    "def square(x):\n",
    "    return x * x\n",
    "\n",
    "composed_func = compose(square, add_two)\n",
    "\n",
    "print(composed_func(3))  "
   ]
  },
  {
   "cell_type": "markdown",
   "id": "adfa4e94",
   "metadata": {},
   "source": [
    "### Assignment 9: Partial Function Application\n",
    "\n",
    "Use the functools.partial function to create a new function that multiplies its input by 2. Test the new function with different inputs."
   ]
  },
  {
   "cell_type": "code",
   "execution_count": 32,
   "id": "f803a976",
   "metadata": {},
   "outputs": [
    {
     "name": "stdout",
     "output_type": "stream",
     "text": [
      "25\n"
     ]
    }
   ],
   "source": [
    "from functools import partial\n",
    "\n",
    "def multiply(x, y):\n",
    "    return x * y\n",
    "\n",
    "double = partial(multiply, 5)\n",
    "\n",
    "print(double(5))"
   ]
  },
  {
   "cell_type": "markdown",
   "id": "f6dea145",
   "metadata": {},
   "source": [
    "### Assignment 10: Function with Error Handling\n",
    "\n",
    "Define a function that takes a list of integers and returns their average. The function should handle any errors that occur (e.g., empty list) and return None in such cases. Test with different inputs."
   ]
  },
  {
   "cell_type": "code",
   "execution_count": 41,
   "id": "3c66ff48",
   "metadata": {},
   "outputs": [
    {
     "name": "stdout",
     "output_type": "stream",
     "text": [
      "20.0\n"
     ]
    }
   ],
   "source": [
    "def average_numer(numbers):\n",
    "    try:\n",
    "        if not numbers:\n",
    "            return None\n",
    "        total = sum(numbers)\n",
    "        count = len(numbers)\n",
    "        return total / count\n",
    "    except TypeError:\n",
    "        return None\n",
    "print(average_numer([10, 20, 30]))"
   ]
  },
  {
   "cell_type": "markdown",
   "id": "d3a8065b",
   "metadata": {},
   "source": [
    "### Assignment 11: Function with Generators\n",
    "\n",
    "Define a function that generates an infinite sequence of Fibonacci numbers. Test by printing the first 10 numbers in the sequence."
   ]
  },
  {
   "cell_type": "code",
   "execution_count": 42,
   "id": "47372511",
   "metadata": {},
   "outputs": [
    {
     "name": "stdout",
     "output_type": "stream",
     "text": [
      "0\n",
      "1\n",
      "1\n",
      "2\n",
      "3\n",
      "5\n",
      "8\n",
      "13\n",
      "21\n",
      "34\n"
     ]
    }
   ],
   "source": [
    "def infinite_fibo():\n",
    "    a,b = 0,1\n",
    "    while True:\n",
    "        yield a\n",
    "        a,b = b, a+b\n",
    "\n",
    "fib = infinite_fibo()\n",
    "\n",
    "for i in range(10):\n",
    "    print(next(fib))"
   ]
  },
  {
   "cell_type": "markdown",
   "id": "2f1e24b6",
   "metadata": {},
   "source": [
    "### Assignment 12: Currying\n",
    "\n",
    "Define a curried function that takes three arguments, one at a time, and returns their product. Test the function by providing arguments one at a time."
   ]
  },
  {
   "cell_type": "code",
   "execution_count": 44,
   "id": "ec9f1d3a",
   "metadata": {},
   "outputs": [
    {
     "name": "stdout",
     "output_type": "stream",
     "text": [
      "24\n"
     ]
    }
   ],
   "source": [
    "def curried(a):\n",
    "    def multi_b(b):\n",
    "        def multi_c(c):\n",
    "            return a*b*c\n",
    "        return multi_c\n",
    "    return multi_b\n",
    "result = curried(2) (3) (4)\n",
    "print(result)"
   ]
  },
  {
   "cell_type": "markdown",
   "id": "f4a2b343",
   "metadata": {},
   "source": [
    "### Assignment 13: Function with Context Manager\n",
    "\n",
    "Define a function that uses a context manager to write a list of integers to a file. The function should handle any errors that occur during file operations. Test with different lists."
   ]
  },
  {
   "cell_type": "code",
   "execution_count": 45,
   "id": "c6c96820",
   "metadata": {},
   "outputs": [],
   "source": []
  },
  {
   "cell_type": "markdown",
   "id": "22ec04b7",
   "metadata": {},
   "source": [
    "### Assignment 14: Function with Multiple Return Types\n",
    "\n",
    "Define a function that takes a list of mixed data types (integers, strings, and floats) and returns three lists: one containing all the integers, one containing all the strings, and one containing all the floats. Test with different inputs."
   ]
  },
  {
   "cell_type": "code",
   "execution_count": 49,
   "id": "67c897a3",
   "metadata": {},
   "outputs": [
    {
     "name": "stdout",
     "output_type": "stream",
     "text": [
      "[10, 20, 5]\n",
      "['apple', 'banana', 'cat']\n",
      "[3.14, 2.71]\n"
     ]
    }
   ],
   "source": [
    "def mix_datatypes(mix_list):\n",
    "    my_int = []\n",
    "    my_str = []\n",
    "    my_float = []\n",
    "\n",
    "    for item in mix_list:\n",
    "        if isinstance(item, int):\n",
    "            my_int.append(item)\n",
    "        elif isinstance(item, str):\n",
    "            my_str.append(item)\n",
    "        elif isinstance(item, float):\n",
    "            my_float.append(item)\n",
    "    return my_int, my_str, my_float\n",
    "\n",
    "data = [10, \"apple\", 3.14, 20, \"banana\", 2.71, \"cat\", 5]\n",
    "ints, strs, flts = mix_datatypes(data)\n",
    "print(ints)\n",
    "print(strs)\n",
    "print(flts)"
   ]
  },
  {
   "cell_type": "markdown",
   "id": "54bde6db",
   "metadata": {},
   "source": [
    "### Assignment 15: Function with State\n",
    "\n",
    "Define a function that maintains state between calls using a mutable default argument. The function should keep track of how many times it has been called. Test by calling the function multiple times."
   ]
  },
  {
   "cell_type": "code",
   "execution_count": 53,
   "id": "eb6900a3",
   "metadata": {},
   "outputs": [
    {
     "name": "stdout",
     "output_type": "stream",
     "text": [
      "function call times: 1\n",
      "1\n",
      "function call times: 2\n",
      "2\n",
      "function call times: 3\n",
      "3\n"
     ]
    }
   ],
   "source": [
    "def conter(counter = {'count': 0}):\n",
    "    counter['count'] += 1\n",
    "    print (f\"function call times: {counter['count']}\")\n",
    "    return counter['count']\n",
    "\n",
    "print(conter())\n",
    "print(conter())\n",
    "print(conter())\n"
   ]
  },
  {
   "cell_type": "code",
   "execution_count": null,
   "id": "e6cfb2dd",
   "metadata": {},
   "outputs": [],
   "source": []
  }
 ],
 "metadata": {
  "kernelspec": {
   "display_name": "Python [conda env:base] *",
   "language": "python",
   "name": "conda-base-py"
  }
 },
 "nbformat": 4,
 "nbformat_minor": 5
}
