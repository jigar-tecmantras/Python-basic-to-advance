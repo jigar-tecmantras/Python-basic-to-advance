{
 "cells": [
  {
   "cell_type": "markdown",
   "id": "f8f532d1",
   "metadata": {},
   "source": [
    "### You are given a temperature in Celsius. Your task is to convert it to Fahrenheit and return the result."
   ]
  },
  {
   "cell_type": "code",
   "execution_count": 3,
   "id": "cd779f7b",
   "metadata": {},
   "outputs": [
    {
     "name": "stdout",
     "output_type": "stream",
     "text": [
      "32.0\n"
     ]
    }
   ],
   "source": [
    "def celsius_to_fahrenheit(celsius):\n",
    "    \"\"\"Convert Celsius to Fahrenheit.\"\"\"\n",
    "    return (celsius * 9/5) + 32\n",
    "\n",
    "myinput = input(\"Enter temperature in Celsius: \")\n",
    "print(celsius_to_fahrenheit(float(myinput)))"
   ]
  },
  {
   "cell_type": "markdown",
   "id": "15c8db2a",
   "metadata": {},
   "source": [
    "### Area of a Rectangle"
   ]
  },
  {
   "cell_type": "code",
   "execution_count": null,
   "id": "a8fea0ad",
   "metadata": {},
   "outputs": [
    {
     "name": "stdout",
     "output_type": "stream",
     "text": [
      "18.0\n"
     ]
    }
   ],
   "source": [
    "def area_of_rectangle(length, breadth):\n",
    "    \"\"\"\n",
    "    Function to calculate the area of a rectangle.\n",
    "    \"\"\"\n",
    "\n",
    "    area = length * breadth\n",
    "    return area\n",
    "print(area_of_rectangle(7.5, 2.4))"
   ]
  },
  {
   "cell_type": "markdown",
   "id": "8084eb31",
   "metadata": {},
   "source": [
    "### Distance Covered by a Vehicle"
   ]
  },
  {
   "cell_type": "code",
   "execution_count": 8,
   "id": "406599ba",
   "metadata": {},
   "outputs": [
    {
     "name": "stdout",
     "output_type": "stream",
     "text": [
      "75.75\n"
     ]
    }
   ],
   "source": [
    "def cal_distance(Speed,Time):\n",
    "    \"\"\"\n",
    "    Function to calculate the distance between two points.\n",
    "    \"\"\"\n",
    "    distance=Speed * Time\n",
    "    return distance\n",
    "print(cal_distance(50.5, 1.5))"
   ]
  },
  {
   "cell_type": "markdown",
   "id": "8f14df76",
   "metadata": {},
   "source": [
    "### Calculate Number of Rounds of Lift"
   ]
  },
  {
   "cell_type": "code",
   "execution_count": 11,
   "id": "be00a802",
   "metadata": {},
   "outputs": [
    {
     "name": "stdout",
     "output_type": "stream",
     "text": [
      "4\n"
     ]
    }
   ],
   "source": [
    "import math\n",
    "\n",
    "def calculate_lift_rounds(n, capacity):\n",
    "    if capacity <= 0:\n",
    "        return \"Lift capacity must be greater than zero.\"\n",
    "    rounds = math.ceil(n / capacity)\n",
    "    return rounds\n",
    "print(calculate_lift_rounds(10, 3))"
   ]
  },
  {
   "cell_type": "markdown",
   "id": "41727010",
   "metadata": {},
   "source": [
    "### Calculate Line Equation"
   ]
  },
  {
   "cell_type": "code",
   "execution_count": 13,
   "id": "c88f2bb1",
   "metadata": {},
   "outputs": [
    {
     "name": "stdout",
     "output_type": "stream",
     "text": [
      "1.0\n"
     ]
    }
   ],
   "source": [
    "def calculate_line_equation(a, b, c):\n",
    "    \"\"\"\n",
    "    Function to calculate the equation of a line.\n",
    "    \"\"\"\n",
    "\n",
    "    y = a * c + b\n",
    "    return y\n",
    "print(calculate_line_equation(1.5, -2 ,2))"
   ]
  },
  {
   "cell_type": "markdown",
   "id": "299b9a5e",
   "metadata": {},
   "source": [
    "### Sum of List Elements"
   ]
  },
  {
   "cell_type": "code",
   "execution_count": 4,
   "id": "9071d70b",
   "metadata": {},
   "outputs": [
    {
     "name": "stdout",
     "output_type": "stream",
     "text": [
      "15\n"
     ]
    }
   ],
   "source": [
    "def sum_list(numbers):\n",
    "\n",
    "    for number in numbers:\n",
    "        if not isinstance(number, (int, float)):\n",
    "            raise ValueError(\"List must contain only numbers.\")\n",
    "    return sum(numbers)\n",
    "\n",
    "print(sum_list([1, 2, 3, 4, 5]))\n",
    "\n"
   ]
  },
  {
   "cell_type": "markdown",
   "id": "2bf74ad0",
   "metadata": {},
   "source": [
    "### Largest Element in a List"
   ]
  },
  {
   "cell_type": "code",
   "execution_count": 6,
   "id": "cf57cbc6",
   "metadata": {},
   "outputs": [
    {
     "name": "stdout",
     "output_type": "stream",
     "text": [
      "7\n"
     ]
    }
   ],
   "source": [
    "def find_largest_number(numbers):\n",
    "    \"\"\"\n",
    "    Function to find the largest number in a list.\n",
    "    \"\"\"\n",
    "\n",
    "    if not numbers:\n",
    "        return None\n",
    "    largest = numbers[0]\n",
    "    for number in numbers:\n",
    "        if number > largest:\n",
    "            largest = number\n",
    "    return largest\n",
    "print(find_largest_number([1, 7, 3, 4, 5]))"
   ]
  },
  {
   "cell_type": "markdown",
   "id": "e13ef018",
   "metadata": {},
   "source": [
    "### Remove Duplicate in a List"
   ]
  },
  {
   "cell_type": "code",
   "execution_count": 7,
   "id": "e61ed5b8",
   "metadata": {},
   "outputs": [
    {
     "name": "stdout",
     "output_type": "stream",
     "text": [
      "[1, 2, 3, 4, 5]\n"
     ]
    }
   ],
   "source": [
    "def remo_duplicates(lst):\n",
    "    \"\"\"\n",
    "    Function to remove duplicates from a list.\n",
    "    \"\"\"\n",
    "\n",
    "    return list(set(lst))\n",
    "print(remo_duplicates([1, 2, 3, 4, 5, 1, 2, 3]))"
   ]
  },
  {
   "cell_type": "markdown",
   "id": "9bfe2e8c",
   "metadata": {},
   "source": [
    "## Check if all elements in a List are Unique"
   ]
  },
  {
   "cell_type": "code",
   "execution_count": 9,
   "id": "e5373cb9",
   "metadata": {},
   "outputs": [
    {
     "name": "stdout",
     "output_type": "stream",
     "text": [
      "True\n"
     ]
    }
   ],
   "source": [
    "def check_unique():\n",
    "   \n",
    "    lst = [1, 2, 3, 4, 5]\n",
    "    return len(lst) == len(set(lst))\n",
    "print(check_unique())"
   ]
  },
  {
   "cell_type": "markdown",
   "id": "6b7627ec",
   "metadata": {},
   "source": [
    "### Reverse a List"
   ]
  },
  {
   "cell_type": "code",
   "execution_count": 10,
   "id": "0790dbd5",
   "metadata": {},
   "outputs": [
    {
     "name": "stdout",
     "output_type": "stream",
     "text": [
      "[5, 4, 3, 2, 1]\n"
     ]
    }
   ],
   "source": [
    "def revers_list():\n",
    "    \"\"\"\n",
    "    Function to reverse a list.\n",
    "    \"\"\"\n",
    "\n",
    "    lst = [1, 2, 3, 4, 5]\n",
    "    return lst[::-1]\n",
    "print(revers_list())"
   ]
  },
  {
   "cell_type": "markdown",
   "id": "2cf3239f",
   "metadata": {},
   "source": [
    "### Number of Odd and Even Elements in a list"
   ]
  },
  {
   "cell_type": "code",
   "execution_count": 11,
   "id": "cfad92ac",
   "metadata": {},
   "outputs": [
    {
     "name": "stdout",
     "output_type": "stream",
     "text": [
      "1 is odd\n",
      "2 is even\n",
      "3 is odd\n",
      "4 is even\n",
      "5 is odd\n"
     ]
    }
   ],
   "source": [
    "lst = [1, 2, 3, 4, 5]\n",
    "\n",
    "for i in range(len(lst)):\n",
    "    if lst[i] % 2 == 0:\n",
    "        print(lst[i], \"is even\")\n",
    "    else:\n",
    "        print(lst[i], \"is odd\")\n",
    "        "
   ]
  },
  {
   "cell_type": "markdown",
   "id": "271af2bb",
   "metadata": {},
   "source": [
    "### Check if List is Subset of Another List"
   ]
  },
  {
   "cell_type": "code",
   "execution_count": 12,
   "id": "9bc0be86",
   "metadata": {},
   "outputs": [
    {
     "name": "stdout",
     "output_type": "stream",
     "text": [
      "True\n"
     ]
    }
   ],
   "source": [
    "def is_subset(list1, list2):\n",
    "    return set(list1).issubset(set(list2))\n",
    "\n",
    "a = [1, 2]\n",
    "b = [1, 2, 3, 4]\n",
    "print(is_subset(a, b))"
   ]
  },
  {
   "cell_type": "code",
   "execution_count": null,
   "id": "00fb61e9",
   "metadata": {},
   "outputs": [],
   "source": []
  }
 ],
 "metadata": {
  "kernelspec": {
   "display_name": "Python [conda env:base] *",
   "language": "python",
   "name": "conda-base-py"
  },
  "language_info": {
   "codemirror_mode": {
    "name": "ipython",
    "version": 3
   },
   "file_extension": ".py",
   "mimetype": "text/x-python",
   "name": "python",
   "nbconvert_exporter": "python",
   "pygments_lexer": "ipython3",
   "version": "3.12.7"
  }
 },
 "nbformat": 4,
 "nbformat_minor": 5
}
