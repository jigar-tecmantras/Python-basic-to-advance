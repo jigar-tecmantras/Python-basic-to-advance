{
 "cells": [
  {
   "cell_type": "markdown",
   "id": "bc43a297",
   "metadata": {},
   "source": [
    "### Lambda Functions in Python\n",
    "Lambda functions are small anonymous functions defined using the lambda keyword. They can have any number of arguments but only one expression. They are commonly used for short operations or as arguments to higher-order functions."
   ]
  },
  {
   "cell_type": "code",
   "execution_count": 1,
   "id": "8436fa70",
   "metadata": {},
   "outputs": [
    {
     "data": {
      "text/plain": [
       "<function __main__.<lambda>(argument)>"
      ]
     },
     "execution_count": 1,
     "metadata": {},
     "output_type": "execute_result"
    }
   ],
   "source": [
    "# Syntax\n",
    "lambda argument: expression"
   ]
  },
  {
   "cell_type": "code",
   "execution_count": 2,
   "id": "53b75379",
   "metadata": {},
   "outputs": [
    {
     "name": "stdout",
     "output_type": "stream",
     "text": [
      "5\n"
     ]
    }
   ],
   "source": [
    "def addition(x, y):\n",
    "    return x + y\n",
    "print(addition(2, 3))"
   ]
  },
  {
   "cell_type": "code",
   "execution_count": 4,
   "id": "321594d6",
   "metadata": {},
   "outputs": [
    {
     "name": "stdout",
     "output_type": "stream",
     "text": [
      "5\n"
     ]
    }
   ],
   "source": [
    "lambda_addition = lambda x,y:x + y\n",
    "print(lambda_addition(2, 3))"
   ]
  },
  {
   "cell_type": "code",
   "execution_count": 5,
   "id": "cbb7c344",
   "metadata": {},
   "outputs": [
    {
     "data": {
      "text/plain": [
       "True"
      ]
     },
     "execution_count": 5,
     "metadata": {},
     "output_type": "execute_result"
    }
   ],
   "source": [
    "even1 = lambda x:x%2 == 0\n",
    "even1(2)"
   ]
  },
  {
   "cell_type": "code",
   "execution_count": 6,
   "id": "ea840ffd",
   "metadata": {},
   "outputs": [
    {
     "name": "stdout",
     "output_type": "stream",
     "text": [
      "9\n"
     ]
    }
   ],
   "source": [
    "addition = lambda x,y,z: x + y + z\n",
    "print(addition(2, 3, 4))"
   ]
  },
  {
   "cell_type": "code",
   "execution_count": 12,
   "id": "60eec94f",
   "metadata": {},
   "outputs": [
    {
     "name": "stdout",
     "output_type": "stream",
     "text": [
      "[1, 4, 9, 16, 25]\n"
     ]
    }
   ],
   "source": [
    "square = lambda x:x **2\n",
    "number = [1,2,3,4,5]\n",
    "squares = []\n",
    "\n",
    "for i in number:\n",
    "    squares.append(square(i))\n",
    "print(squares)"
   ]
  },
  {
   "cell_type": "code",
   "execution_count": 2,
   "id": "bb95f571",
   "metadata": {},
   "outputs": [
    {
     "name": "stdout",
     "output_type": "stream",
     "text": [
      "4\n",
      "3\n",
      "12\n"
     ]
    }
   ],
   "source": [
    "multiply = lambda x,y: x * y\n",
    "i = 0\n",
    "while i < 3:\n",
    "    x = int(input(\"Enter a number: \"))\n",
    "    y = int(input(\"Enter another number: \"))\n",
    "    print(multiply(x,y))\n",
    "    i += 1"
   ]
  },
  {
   "cell_type": "code",
   "execution_count": null,
   "id": "20878083",
   "metadata": {},
   "outputs": [],
   "source": []
  }
 ],
 "metadata": {
  "kernelspec": {
   "display_name": "Python [conda env:base] *",
   "language": "python",
   "name": "conda-base-py"
  },
  "language_info": {
   "codemirror_mode": {
    "name": "ipython",
    "version": 3
   },
   "file_extension": ".py",
   "mimetype": "text/x-python",
   "name": "python",
   "nbconvert_exporter": "python",
   "pygments_lexer": "ipython3",
   "version": "3.12.7"
  }
 },
 "nbformat": 4,
 "nbformat_minor": 5
}
