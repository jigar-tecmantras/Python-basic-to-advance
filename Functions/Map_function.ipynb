{
 "cells": [
  {
   "cell_type": "markdown",
   "id": "cc84fea5",
   "metadata": {},
   "source": [
    "### The map() Function in Python\n",
    "The map() function applies a given function to all items in an input list (or any other iterable) and returns a map object (an iterator). This is particularly useful for transforming data in a list comprehensively."
   ]
  },
  {
   "cell_type": "code",
   "execution_count": 6,
   "id": "c6df748e",
   "metadata": {},
   "outputs": [],
   "source": [
    "# map(function, iterable)"
   ]
  },
  {
   "cell_type": "code",
   "execution_count": 2,
   "id": "b8f6dd3b",
   "metadata": {},
   "outputs": [
    {
     "data": {
      "text/plain": [
       "[1, 4, 9, 16, 25, 36, 49, 64, 81, 100]"
      ]
     },
     "execution_count": 2,
     "metadata": {},
     "output_type": "execute_result"
    }
   ],
   "source": [
    "def sqr(x):\n",
    "    return x * x\n",
    "sqr(2)\n",
    "\n",
    "number = [1,2,3,4,5,6,7,8,9,10]\n",
    "list(map(sqr, number))\n",
    "\n",
    "\n"
   ]
  },
  {
   "cell_type": "code",
   "execution_count": 3,
   "id": "1d621eb5",
   "metadata": {},
   "outputs": [
    {
     "data": {
      "text/plain": [
       "[1, 4, 9, 16, 25, 36, 49, 64, 81, 100]"
      ]
     },
     "execution_count": 3,
     "metadata": {},
     "output_type": "execute_result"
    }
   ],
   "source": [
    "# Lambda function with map\n",
    "number = [1,2,3,4,5,6,7,8,9,10]\n",
    "list(map(lambda x:x*x,number))\n"
   ]
  },
  {
   "cell_type": "code",
   "execution_count": 4,
   "id": "9ab54faa",
   "metadata": {},
   "outputs": [
    {
     "data": {
      "text/plain": [
       "['John', 'Jane', 'Mike', 'Sara']"
      ]
     },
     "execution_count": 4,
     "metadata": {},
     "output_type": "execute_result"
    }
   ],
   "source": [
    "def get_name(person):\n",
    "    return person['name']\n",
    "people = [\n",
    "    {'name': 'John', 'age': 25},\n",
    "    {'name': 'Jane', 'age': 30},\n",
    "    {'name': 'Mike', 'age': 35},\n",
    "    {'name': 'Sara', 'age': 28}\n",
    "]\n",
    "\n",
    "list(map(get_name, people))"
   ]
  },
  {
   "cell_type": "code",
   "execution_count": null,
   "id": "b82eb61c",
   "metadata": {},
   "outputs": [
    {
     "name": "stdout",
     "output_type": "stream",
     "text": [
      "[90.0, 180.0, 270.0]\n"
     ]
    }
   ],
   "source": [
    "prices = [100, 200, 300]\n",
    "discounted = list(map(lambda x: x * 0.9, prices))\n",
    "print(discounted) "
   ]
  },
  {
   "cell_type": "code",
   "execution_count": null,
   "id": "884579bc",
   "metadata": {},
   "outputs": [],
   "source": []
  }
 ],
 "metadata": {
  "kernelspec": {
   "display_name": "Python [conda env:base] *",
   "language": "python",
   "name": "conda-base-py"
  }
 },
 "nbformat": 4,
 "nbformat_minor": 5
}
