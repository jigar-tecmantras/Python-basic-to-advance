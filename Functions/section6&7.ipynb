{
 "cells": [
  {
   "cell_type": "markdown",
   "id": "f8f532d1",
   "metadata": {},
   "source": [
    "### You are given a temperature in Celsius. Your task is to convert it to Fahrenheit and return the result."
   ]
  },
  {
   "cell_type": "code",
   "execution_count": 3,
   "id": "cd779f7b",
   "metadata": {},
   "outputs": [
    {
     "name": "stdout",
     "output_type": "stream",
     "text": [
      "32.0\n"
     ]
    }
   ],
   "source": [
    "def celsius_to_fahrenheit(celsius):\n",
    "    \"\"\"Convert Celsius to Fahrenheit.\"\"\"\n",
    "    return (celsius * 9/5) + 32\n",
    "\n",
    "myinput = input(\"Enter temperature in Celsius: \")\n",
    "print(celsius_to_fahrenheit(float(myinput)))"
   ]
  },
  {
   "cell_type": "markdown",
   "id": "15c8db2a",
   "metadata": {},
   "source": [
    "### Area of a Rectangle"
   ]
  },
  {
   "cell_type": "code",
   "execution_count": null,
   "id": "a8fea0ad",
   "metadata": {},
   "outputs": [
    {
     "name": "stdout",
     "output_type": "stream",
     "text": [
      "18.0\n"
     ]
    }
   ],
   "source": [
    "def area_of_rectangle(length, breadth):\n",
    "    \"\"\"\n",
    "    Function to calculate the area of a rectangle.\n",
    "    \"\"\"\n",
    "\n",
    "    area = length * breadth\n",
    "    return area\n",
    "print(area_of_rectangle(7.5, 2.4))"
   ]
  },
  {
   "cell_type": "markdown",
   "id": "8084eb31",
   "metadata": {},
   "source": [
    "### Distance Covered by a Vehicle"
   ]
  },
  {
   "cell_type": "code",
   "execution_count": 8,
   "id": "406599ba",
   "metadata": {},
   "outputs": [
    {
     "name": "stdout",
     "output_type": "stream",
     "text": [
      "75.75\n"
     ]
    }
   ],
   "source": [
    "def cal_distance(Speed,Time):\n",
    "    \"\"\"\n",
    "    Function to calculate the distance between two points.\n",
    "    \"\"\"\n",
    "    distance=Speed * Time\n",
    "    return distance\n",
    "print(cal_distance(50.5, 1.5))"
   ]
  },
  {
   "cell_type": "markdown",
   "id": "8f14df76",
   "metadata": {},
   "source": [
    "### Calculate Number of Rounds of Lift"
   ]
  },
  {
   "cell_type": "code",
   "execution_count": 11,
   "id": "be00a802",
   "metadata": {},
   "outputs": [
    {
     "name": "stdout",
     "output_type": "stream",
     "text": [
      "4\n"
     ]
    }
   ],
   "source": [
    "import math\n",
    "\n",
    "def calculate_lift_rounds(n, capacity):\n",
    "    if capacity <= 0:\n",
    "        return \"Lift capacity must be greater than zero.\"\n",
    "    rounds = math.ceil(n / capacity)\n",
    "    return rounds\n",
    "print(calculate_lift_rounds(10, 3))"
   ]
  },
  {
   "cell_type": "markdown",
   "id": "41727010",
   "metadata": {},
   "source": [
    "### Calculate Line Equation"
   ]
  },
  {
   "cell_type": "code",
   "execution_count": 13,
   "id": "c88f2bb1",
   "metadata": {},
   "outputs": [
    {
     "name": "stdout",
     "output_type": "stream",
     "text": [
      "1.0\n"
     ]
    }
   ],
   "source": [
    "def calculate_line_equation(a, b, c):\n",
    "    \"\"\"\n",
    "    Function to calculate the equation of a line.\n",
    "    \"\"\"\n",
    "\n",
    "    y = a * c + b\n",
    "    return y\n",
    "print(calculate_line_equation(1.5, -2 ,2))"
   ]
  },
  {
   "cell_type": "markdown",
   "id": "299b9a5e",
   "metadata": {},
   "source": [
    "### Sum of List Elements"
   ]
  },
  {
   "cell_type": "code",
   "execution_count": 4,
   "id": "9071d70b",
   "metadata": {},
   "outputs": [
    {
     "name": "stdout",
     "output_type": "stream",
     "text": [
      "15\n"
     ]
    }
   ],
   "source": [
    "def sum_list(numbers):\n",
    "\n",
    "    for number in numbers:\n",
    "        if not isinstance(number, (int, float)):\n",
    "            raise ValueError(\"List must contain only numbers.\")\n",
    "    return sum(numbers)\n",
    "\n",
    "print(sum_list([1, 2, 3, 4, 5]))\n",
    "\n"
   ]
  },
  {
   "cell_type": "markdown",
   "id": "2bf74ad0",
   "metadata": {},
   "source": [
    "### Largest Element in a List"
   ]
  },
  {
   "cell_type": "code",
   "execution_count": 6,
   "id": "cf57cbc6",
   "metadata": {},
   "outputs": [
    {
     "name": "stdout",
     "output_type": "stream",
     "text": [
      "7\n"
     ]
    }
   ],
   "source": [
    "def find_largest_number(numbers):\n",
    "    \"\"\"\n",
    "    Function to find the largest number in a list.\n",
    "    \"\"\"\n",
    "\n",
    "    if not numbers:\n",
    "        return None\n",
    "    largest = numbers[0]\n",
    "    for number in numbers:\n",
    "        if number > largest:\n",
    "            largest = number\n",
    "    return largest\n",
    "print(find_largest_number([1, 7, 3, 4, 5]))"
   ]
  },
  {
   "cell_type": "markdown",
   "id": "e13ef018",
   "metadata": {},
   "source": [
    "### Remove Duplicate in a List"
   ]
  },
  {
   "cell_type": "code",
   "execution_count": 7,
   "id": "e61ed5b8",
   "metadata": {},
   "outputs": [
    {
     "name": "stdout",
     "output_type": "stream",
     "text": [
      "[1, 2, 3, 4, 5]\n"
     ]
    }
   ],
   "source": [
    "def remo_duplicates(lst):\n",
    "    \"\"\"\n",
    "    Function to remove duplicates from a list.\n",
    "    \"\"\"\n",
    "\n",
    "    return list(set(lst))\n",
    "print(remo_duplicates([1, 2, 3, 4, 5, 1, 2, 3]))"
   ]
  },
  {
   "cell_type": "markdown",
   "id": "9bfe2e8c",
   "metadata": {},
   "source": [
    "## Check if all elements in a List are Unique"
   ]
  },
  {
   "cell_type": "code",
   "execution_count": 9,
   "id": "e5373cb9",
   "metadata": {},
   "outputs": [
    {
     "name": "stdout",
     "output_type": "stream",
     "text": [
      "True\n"
     ]
    }
   ],
   "source": [
    "def check_unique():\n",
    "   \n",
    "    lst = [1, 2, 3, 4, 5]\n",
    "    return len(lst) == len(set(lst))\n",
    "print(check_unique())"
   ]
  },
  {
   "cell_type": "markdown",
   "id": "6b7627ec",
   "metadata": {},
   "source": [
    "### Reverse a List"
   ]
  },
  {
   "cell_type": "code",
   "execution_count": 10,
   "id": "0790dbd5",
   "metadata": {},
   "outputs": [
    {
     "name": "stdout",
     "output_type": "stream",
     "text": [
      "[5, 4, 3, 2, 1]\n"
     ]
    }
   ],
   "source": [
    "def revers_list():\n",
    "    \"\"\"\n",
    "    Function to reverse a list.\n",
    "    \"\"\"\n",
    "\n",
    "    lst = [1, 2, 3, 4, 5]\n",
    "    return lst[::-1]\n",
    "print(revers_list())"
   ]
  },
  {
   "cell_type": "markdown",
   "id": "2cf3239f",
   "metadata": {},
   "source": [
    "### Number of Odd and Even Elements in a list"
   ]
  },
  {
   "cell_type": "code",
   "execution_count": 11,
   "id": "cfad92ac",
   "metadata": {},
   "outputs": [
    {
     "name": "stdout",
     "output_type": "stream",
     "text": [
      "1 is odd\n",
      "2 is even\n",
      "3 is odd\n",
      "4 is even\n",
      "5 is odd\n"
     ]
    }
   ],
   "source": [
    "lst = [1, 2, 3, 4, 5]\n",
    "\n",
    "for i in range(len(lst)):\n",
    "    if lst[i] % 2 == 0:\n",
    "        print(lst[i], \"is even\")\n",
    "    else:\n",
    "        print(lst[i], \"is odd\")\n",
    "        "
   ]
  },
  {
   "cell_type": "markdown",
   "id": "271af2bb",
   "metadata": {},
   "source": [
    "### Check if List is Subset of Another List"
   ]
  },
  {
   "cell_type": "code",
   "execution_count": 12,
   "id": "9bc0be86",
   "metadata": {},
   "outputs": [
    {
     "name": "stdout",
     "output_type": "stream",
     "text": [
      "True\n"
     ]
    }
   ],
   "source": [
    "def is_subset(list1, list2):\n",
    "    return set(list1).issubset(set(list2))\n",
    "\n",
    "a = [1, 2]\n",
    "b = [1, 2, 3, 4]\n",
    "print(is_subset(a, b))"
   ]
  },
  {
   "cell_type": "markdown",
   "id": "00fb61e9",
   "metadata": {},
   "source": [
    "### Maximum Difference between 2 consecutive elements in a List"
   ]
  },
  {
   "cell_type": "code",
   "execution_count": 16,
   "id": "5592f4a4",
   "metadata": {},
   "outputs": [
    {
     "name": "stdout",
     "output_type": "stream",
     "text": [
      "7\n"
     ]
    }
   ],
   "source": [
    "def max_consecutive_diff(lst):\n",
    "    if len(lst) < 2:\n",
    "        return 0 \n",
    "    max_diff = 0  \n",
    "\n",
    "    for i in range(1, len(lst)):\n",
    "        diff = abs(lst[i] - lst[i - 1])\n",
    "        \n",
    "        if diff > max_diff:\n",
    "            max_diff = diff\n",
    "    \n",
    "    return max_diff\n",
    "\n",
    "lst = [5, 10, 3, 7]\n",
    "print(max_consecutive_diff(lst)) "
   ]
  },
  {
   "cell_type": "markdown",
   "id": "8e92ede7",
   "metadata": {},
   "source": [
    "### Merge two sorted List"
   ]
  },
  {
   "cell_type": "code",
   "execution_count": 17,
   "id": "053896fc",
   "metadata": {},
   "outputs": [
    {
     "name": "stdout",
     "output_type": "stream",
     "text": [
      "[1, 2, 3, 4, 5, 6, 7, 8, 9]\n"
     ]
    }
   ],
   "source": [
    "lst1 = [1,2,3,4,5]\n",
    "lst2 = [6,7,8,9]\n",
    "\n",
    "flst = lst1 + lst2\n",
    "print(flst)"
   ]
  },
  {
   "cell_type": "markdown",
   "id": "5c2ee859",
   "metadata": {},
   "source": [
    "### Rotate a List"
   ]
  },
  {
   "cell_type": "code",
   "execution_count": 18,
   "id": "a0755faf",
   "metadata": {},
   "outputs": [
    {
     "name": "stdout",
     "output_type": "stream",
     "text": [
      "[5, 4, 3, 2, 1]\n"
     ]
    }
   ],
   "source": [
    "lst1 = [1,2,3,4,5]\n",
    "print(sorted(lst1, reverse=True))"
   ]
  },
  {
   "cell_type": "markdown",
   "id": "18615cf7",
   "metadata": {},
   "source": [
    "### Merge Lists to Dictionary"
   ]
  },
  {
   "cell_type": "code",
   "execution_count": 20,
   "id": "278cba71",
   "metadata": {},
   "outputs": [
    {
     "name": "stdout",
     "output_type": "stream",
     "text": [
      "{'a': 1, 'b': 2, 'c': 3}\n"
     ]
    }
   ],
   "source": [
    "keys = ['a', 'b', 'c']\n",
    "values = [1, 2, 3]\n",
    "\n",
    "merged_dict = dict(zip(keys, values))\n",
    "print(merged_dict)"
   ]
  },
  {
   "cell_type": "markdown",
   "id": "eeba23f6",
   "metadata": {},
   "source": [
    "### Merge Multiple Dictionary"
   ]
  },
  {
   "cell_type": "code",
   "execution_count": 24,
   "id": "8a9d7e1d",
   "metadata": {},
   "outputs": [
    {
     "name": "stdout",
     "output_type": "stream",
     "text": [
      "{'a': 1, 'b': 2, 'c': 3, 'x': 4, 'y': 5, 'z': 6}\n"
     ]
    }
   ],
   "source": [
    "dict1 = {'a': 1, 'b': 2, 'c': 3}\n",
    "dict2 = {'x': 4, 'y': 5, 'z': 6}\n",
    "\n",
    "dict1.update(dict2)\n",
    "print(dict1)"
   ]
  },
  {
   "cell_type": "markdown",
   "id": "5bd7b1fc",
   "metadata": {},
   "source": [
    "### Words Frequency in a Sentence"
   ]
  },
  {
   "cell_type": "code",
   "execution_count": 27,
   "id": "712bcf80",
   "metadata": {},
   "outputs": [
    {
     "name": "stdout",
     "output_type": "stream",
     "text": [
      "{'hello': 2, 'world': 2, 'python': 1}\n"
     ]
    }
   ],
   "source": [
    "def count_word_frequency(sentence):\n",
    "    words = sentence.lower().split()\n",
    "    \n",
    "    word_count = {}\n",
    "    \n",
    "    for word in words:\n",
    "        if word in word_count:\n",
    "            word_count[word] += 1\n",
    "        else:\n",
    "            word_count[word] = 1\n",
    "            \n",
    "    return word_count\n",
    "\n",
    "sentence = \"Hello world hello Python world\"\n",
    "word_frequencies = count_word_frequency(sentence)\n",
    "print(word_frequencies)"
   ]
  },
  {
   "cell_type": "markdown",
   "id": "4d036314",
   "metadata": {},
   "source": [
    "### Palindromic Tuple"
   ]
  },
  {
   "cell_type": "code",
   "execution_count": 34,
   "id": "65df0d86",
   "metadata": {},
   "outputs": [
    {
     "name": "stdout",
     "output_type": "stream",
     "text": [
      "True\n"
     ]
    }
   ],
   "source": [
    "def is_palindromic_tuple(tup):\n",
    "    return tup == tup[::-1]\n",
    "\n",
    "tuple1 = (\"radar\")\n",
    "\n",
    "print(is_palindromic_tuple(tuple1))  "
   ]
  },
  {
   "cell_type": "markdown",
   "id": "270aa750",
   "metadata": {},
   "source": [
    "### Merge Dictionaries with Common Keys"
   ]
  },
  {
   "cell_type": "code",
   "execution_count": 35,
   "id": "6eedd69d",
   "metadata": {},
   "outputs": [
    {
     "name": "stdout",
     "output_type": "stream",
     "text": [
      "{'a': 2, 'b': 6, 'c': 3, 'd': 4}\n"
     ]
    }
   ],
   "source": [
    "dict1 = {'a': 1, 'b': 2, 'c': 3}\n",
    "dict2 = {'a': 2, 'b': 3, 'd': 4}\n",
    "\n",
    "def merge_dicts(dict1, dict2):\n",
    "    merged_dict = dict1.copy() \n",
    "    \n",
    "    for key, value in dict2.items():\n",
    "        if key in merged_dict:\n",
    "            merged_dict[key] = merged_dict[key] * value\n",
    "        else:\n",
    "            merged_dict[key] = value\n",
    "    \n",
    "    return merged_dict\n",
    "\n",
    "merged_dict = merge_dicts(dict1, dict2)\n",
    "print(merged_dict)"
   ]
  },
  {
   "cell_type": "code",
   "execution_count": null,
   "id": "0ed99d77",
   "metadata": {},
   "outputs": [],
   "source": []
  }
 ],
 "metadata": {
  "kernelspec": {
   "display_name": "Python [conda env:base] *",
   "language": "python",
   "name": "conda-base-py"
  },
  "language_info": {
   "codemirror_mode": {
    "name": "ipython",
    "version": 3
   },
   "file_extension": ".py",
   "mimetype": "text/x-python",
   "name": "python",
   "nbconvert_exporter": "python",
   "pygments_lexer": "ipython3",
   "version": "3.12.7"
  }
 },
 "nbformat": 4,
 "nbformat_minor": 5
}
