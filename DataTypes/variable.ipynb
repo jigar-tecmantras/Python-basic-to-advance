{
 "cells": [
  {
   "cell_type": "code",
   "execution_count": 23,
   "id": "9d80b9c8-7d75-4fe7-ba20-7c4f56636985",
   "metadata": {},
   "outputs": [],
   "source": [
    "#Naming conventions\n",
    "first_name = \"jigar\""
   ]
  },
  {
   "cell_type": "markdown",
   "id": "8ab89bd6-4953-4fc8-bbd3-55208278110f",
   "metadata": {},
   "source": [
    "### *Naming Conventions*"
   ]
  },
  {
   "cell_type": "raw",
   "id": "53813959-fc9c-47fb-9376-9e91493636a7",
   "metadata": {},
   "source": [
    "\n",
    "Variable names should be descriptive\n",
    "They must start with a letter or an '_' and contain letters, numbers, and underscores\n",
    "Variable names are case sensitive"
   ]
  },
  {
   "cell_type": "markdown",
   "id": "b661ed99-48d7-42f9-b702-b073e2b42a45",
   "metadata": {},
   "source": [
    "### *Declaring And Assigning Variables*"
   ]
  },
  {
   "cell_type": "code",
   "execution_count": 28,
   "id": "e56b90ec-953e-4634-827c-39f894f38e7a",
   "metadata": {},
   "outputs": [
    {
     "name": "stdout",
     "output_type": "stream",
     "text": [
      "age : 32\n",
      "Height: 6.1\n",
      "Name: Krish\n"
     ]
    }
   ],
   "source": [
    "age=32\n",
    "height=6.1\n",
    "name=\"Krish\"\n",
    "is_student=True\n",
    "\n",
    "print(\"age :\",age)\n",
    "print(\"Height:\",height)\n",
    "print(\"Name:\",name)"
   ]
  },
  {
   "cell_type": "markdown",
   "id": "33b29e0a-138d-474d-b1aa-4fb927147d5a",
   "metadata": {},
   "source": [
    "### *Find varible type*"
   ]
  },
  {
   "cell_type": "code",
   "execution_count": 31,
   "id": "886010b9-0891-4a6d-b77b-d3723780aad8",
   "metadata": {},
   "outputs": [
    {
     "name": "stdout",
     "output_type": "stream",
     "text": [
      "32\n",
      "<class 'str'>\n"
     ]
    }
   ],
   "source": [
    "age_str=str(age)\n",
    "print(age_str)\n",
    "print(type(age_str))"
   ]
  },
  {
   "cell_type": "code",
   "execution_count": 1,
   "id": "573173e9-4744-4abd-ba1a-50c87895a82e",
   "metadata": {},
   "outputs": [
    {
     "name": "stdout",
     "output_type": "stream",
     "text": [
      "Name: Alice\n",
      "Age: 25\n",
      "Height: 5.6\n"
     ]
    }
   ],
   "source": [
    "#Programm1\n",
    "\n",
    "name = \"Alice\"\n",
    "age = 25\n",
    "height = 5.6\n",
    "\n",
    "print(\"Name:\", name)\n",
    "print(\"Age:\", age)\n",
    "print(\"Height:\", height)"
   ]
  },
  {
   "cell_type": "code",
   "execution_count": null,
   "id": "08832cab-e26e-44c4-aaaf-48d6987a8c93",
   "metadata": {},
   "outputs": [],
   "source": [
    "### *Type conversion*"
   ]
  },
  {
   "cell_type": "code",
   "execution_count": 42,
   "id": "5afd26fd-05c9-458a-9bee-fb0c33ba84a7",
   "metadata": {},
   "outputs": [
    {
     "name": "stdout",
     "output_type": "stream",
     "text": [
      "<class 'str'>\n",
      "<class 'int'>\n"
     ]
    }
   ],
   "source": [
    "age = 27\n",
    "\n",
    "## convert integer to string\n",
    "convert_string = str(age)\n",
    "print(type(convert_string))\n",
    "\n",
    "# convert string to integer\n",
    "convert_int = int(convert_string)\n",
    "print(type(convert_int))"
   ]
  },
  {
   "cell_type": "code",
   "execution_count": 44,
   "id": "88135ae3-7100-495d-847d-32b0d828f2a9",
   "metadata": {},
   "outputs": [
    {
     "name": "stdout",
     "output_type": "stream",
     "text": [
      "Sum: 15\n",
      "Difference: 5\n",
      "Product: 50\n",
      "Quotient: 2.0\n"
     ]
    }
   ],
   "source": [
    "## Write a program for sum, division, etc..\n",
    "\n",
    "a = 10\n",
    "b = 5\n",
    "\n",
    "sum_ = a + b\n",
    "diff = a - b\n",
    "prod = a * b\n",
    "quot = a / b\n",
    "\n",
    "print(\"Sum:\", sum_)\n",
    "print(\"Difference:\", diff)\n",
    "print(\"Product:\", prod)\n",
    "print(\"Quotient:\", quot)"
   ]
  },
  {
   "cell_type": "code",
   "execution_count": 7,
   "id": "ebcb11c2-aa15-4d16-8384-a04b5956491f",
   "metadata": {},
   "outputs": [
    {
     "name": "stdout",
     "output_type": "stream",
     "text": [
      "jigar\n",
      "patel\n"
     ]
    }
   ],
   "source": [
    "name = \"jigar\"\n",
    "Name = \"patel\"\n",
    "print(name)\n",
    "print(Name)"
   ]
  },
  {
   "cell_type": "markdown",
   "id": "91aff1f7-559f-4e82-ba5c-cf59c0cf2669",
   "metadata": {},
   "source": [
    "### *Line Continuation*"
   ]
  },
  {
   "cell_type": "code",
   "execution_count": 10,
   "id": "1b05b925-fc14-4fa6-9c46-8e6b89f8b271",
   "metadata": {},
   "outputs": [
    {
     "name": "stdout",
     "output_type": "stream",
     "text": [
      "32\n"
     ]
    }
   ],
   "source": [
    "total = 1+3+4+4+6+\\\n",
    "        3+5+6\n",
    "print(total)"
   ]
  },
  {
   "cell_type": "markdown",
   "id": "11ba95d8-39b6-46b5-afd3-1a3847144879",
   "metadata": {},
   "source": [
    "### *multiple statements on a single line*"
   ]
  },
  {
   "cell_type": "code",
   "execution_count": 19,
   "id": "33738bba-933b-4136-b092-fa01e4a6fdc4",
   "metadata": {},
   "outputs": [
    {
     "name": "stdout",
     "output_type": "stream",
     "text": [
      "9\n"
     ]
    }
   ],
   "source": [
    "x=5;y=4;print(x+y)"
   ]
  },
  {
   "cell_type": "markdown",
   "id": "9f38fae7-0a80-476d-ba15-ca0716247c70",
   "metadata": {},
   "source": [
    "### *Dynamic Typing*"
   ]
  },
  {
   "cell_type": "code",
   "execution_count": null,
   "id": "68e09fba-e7e2-44a8-9c70-8bdd17d34e4e",
   "metadata": {},
   "outputs": [],
   "source": [
    "\n",
    "# Python allows the type of a variable to change as the program executes\n",
    "var=10 #int\n",
    "print(var,type(var))"
   ]
  }
 ],
 "metadata": {
  "kernelspec": {
   "display_name": "Python [conda env:base] *",
   "language": "python",
   "name": "conda-base-py"
  },
  "language_info": {
   "codemirror_mode": {
    "name": "ipython",
    "version": 3
   },
   "file_extension": ".py",
   "mimetype": "text/x-python",
   "name": "python",
   "nbconvert_exporter": "python",
   "pygments_lexer": "ipython3",
   "version": "3.12.7"
  }
 },
 "nbformat": 4,
 "nbformat_minor": 5
}
